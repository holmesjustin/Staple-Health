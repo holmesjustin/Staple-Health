{
 "cells": [
  {
   "cell_type": "code",
   "execution_count": 179,
   "metadata": {},
   "outputs": [],
   "source": [
    "import pandas as pd\n",
    "import numpy as np\n",
    "import statsmodels.api as sm\n",
    "import seaborn as sns\n",
    "import random\n",
    "import matplotlib.pyplot as plt  \n",
    "from sklearn.model_selection import train_test_split \n",
    "from sklearn.neural_network import MLPClassifier\n",
    "from sklearn import metrics\n",
    "import operator"
   ]
  },
  {
   "cell_type": "code",
   "execution_count": 128,
   "metadata": {},
   "outputs": [],
   "source": [
    "%matplotlib inline"
   ]
  },
  {
   "cell_type": "code",
   "execution_count": 129,
   "metadata": {},
   "outputs": [],
   "source": [
    "#Create the dataframe we are going to use\n",
    "df = pd.read_csv(\"/Users/JustinHolmes/Desktop/Staple Health/County/Mental Health Data/Concatenated_Data/US_County_All_Data_71019.csv\", skiprows = 0, sep = ',', header = 0, dtype = {'FIPS': 'Int32'})\n",
    "#Change any values to get better-looking results\n",
    "#df['Household Income'] = df['Household Income'].apply(lambda x: x*.001)\n",
    "\n",
    "#Print the head of the dataframe to see if it imports correctly\n",
    "#print(df.head())\n"
   ]
  },
  {
   "cell_type": "code",
   "execution_count": 270,
   "metadata": {},
   "outputs": [],
   "source": [
    "df2 = df[['FIPS','County_x', 'State_x', \"% Female\", \"% Non-Hispanic White\", \"% 65 and over\", \"Household Income (In tens of thousands)\", \"Percent Educated\", 'Population_x', 'Gini Index Estimate', \"Mentally Unhealthy Days\"]].copy()\n",
    "df2.rename(columns={'County_x':'County', 'Population_x':'Population', \"State_x\":\"State\", \"Household Income (In tens of thousands)\":\"Household Income\"}, inplace=True)\n"
   ]
  },
  {
   "cell_type": "code",
   "execution_count": 271,
   "metadata": {},
   "outputs": [],
   "source": [
    "df2['Good/Bad Health'] = (df2[\"Mentally Unhealthy Days\"] > 3.9) * 1"
   ]
  },
  {
   "cell_type": "code",
   "execution_count": 272,
   "metadata": {},
   "outputs": [],
   "source": [
    "#Set the independent variable using the column names\n",
    "ind1 = 'Gini Index Estimate'\n",
    "\n",
    "# '% with SNAP'\n",
    "# 'Average Daily PM2.5 (Air Pollution)'\n",
    "# 'Association Rate'\n",
    "# 'Gini Index Estimate'\n",
    "# '% Adult Obese'\n",
    "# 'Teen Birth Rate'\n",
    "# 'Life Expectancy'"
   ]
  },
  {
   "cell_type": "code",
   "execution_count": 273,
   "metadata": {},
   "outputs": [],
   "source": [
    "#Set the control variables using the column names\n",
    "ctl1 = '% Female'\n",
    "ctl2 = '% Non-Hispanic White'\n",
    "ctl3 = '% 65 and over'\n",
    "ctl4 = 'Household Income'\n",
    "ctl5 = 'Percent Educated'"
   ]
  },
  {
   "cell_type": "code",
   "execution_count": 274,
   "metadata": {},
   "outputs": [],
   "source": [
    "#Set the dependent variable using the column name\n",
    "dep1 = 'Good/Bad Health'"
   ]
  },
  {
   "cell_type": "code",
   "execution_count": 275,
   "metadata": {},
   "outputs": [],
   "source": [
    "#Following variables used for the regression analysis\n",
    "#X = df[[ind1, ind2, ind3, ind4, ind5]].iloc[0:100]\n",
    "X = df2[[ind1, ctl1, ctl2, ctl3, ctl4, ctl5]]\n",
    "Y = df2[dep1]\n",
    "#sm.add_constant(X)"
   ]
  },
  {
   "cell_type": "code",
   "execution_count": 276,
   "metadata": {},
   "outputs": [
    {
     "data": {
      "text/html": [
       "<div>\n",
       "<style scoped>\n",
       "    .dataframe tbody tr th:only-of-type {\n",
       "        vertical-align: middle;\n",
       "    }\n",
       "\n",
       "    .dataframe tbody tr th {\n",
       "        vertical-align: top;\n",
       "    }\n",
       "\n",
       "    .dataframe thead th {\n",
       "        text-align: right;\n",
       "    }\n",
       "</style>\n",
       "<table border=\"1\" class=\"dataframe\">\n",
       "  <thead>\n",
       "    <tr style=\"text-align: right;\">\n",
       "      <th></th>\n",
       "      <th>FIPS</th>\n",
       "      <th>County</th>\n",
       "      <th>State</th>\n",
       "      <th>% Female</th>\n",
       "      <th>% Non-Hispanic White</th>\n",
       "      <th>% 65 and over</th>\n",
       "      <th>Household Income</th>\n",
       "      <th>Percent Educated</th>\n",
       "      <th>Population</th>\n",
       "      <th>Gini Index Estimate</th>\n",
       "      <th>Mentally Unhealthy Days</th>\n",
       "      <th>Good/Bad Health</th>\n",
       "      <th>Predicted</th>\n",
       "    </tr>\n",
       "  </thead>\n",
       "  <tbody>\n",
       "    <tr>\n",
       "      <th>0</th>\n",
       "      <td>1001</td>\n",
       "      <td>Autauga</td>\n",
       "      <td>Alabama</td>\n",
       "      <td>51.3</td>\n",
       "      <td>74.5</td>\n",
       "      <td>15.1</td>\n",
       "      <td>58.343</td>\n",
       "      <td>87.700302</td>\n",
       "      <td>55504</td>\n",
       "      <td>45.01</td>\n",
       "      <td>4.3</td>\n",
       "      <td>1</td>\n",
       "      <td>0</td>\n",
       "    </tr>\n",
       "    <tr>\n",
       "      <th>1</th>\n",
       "      <td>1003</td>\n",
       "      <td>Baldwin</td>\n",
       "      <td>Alabama</td>\n",
       "      <td>51.5</td>\n",
       "      <td>83.0</td>\n",
       "      <td>19.9</td>\n",
       "      <td>56.607</td>\n",
       "      <td>90.213394</td>\n",
       "      <td>212628</td>\n",
       "      <td>46.18</td>\n",
       "      <td>4.2</td>\n",
       "      <td>1</td>\n",
       "      <td>1</td>\n",
       "    </tr>\n",
       "    <tr>\n",
       "      <th>2</th>\n",
       "      <td>1005</td>\n",
       "      <td>Barbour</td>\n",
       "      <td>Alabama</td>\n",
       "      <td>47.2</td>\n",
       "      <td>46.0</td>\n",
       "      <td>18.8</td>\n",
       "      <td>32.490</td>\n",
       "      <td>73.093197</td>\n",
       "      <td>25270</td>\n",
       "      <td>46.22</td>\n",
       "      <td>4.6</td>\n",
       "      <td>1</td>\n",
       "      <td>1</td>\n",
       "    </tr>\n",
       "    <tr>\n",
       "      <th>3</th>\n",
       "      <td>1007</td>\n",
       "      <td>Bibb</td>\n",
       "      <td>Alabama</td>\n",
       "      <td>46.5</td>\n",
       "      <td>74.3</td>\n",
       "      <td>16.0</td>\n",
       "      <td>45.795</td>\n",
       "      <td>82.136326</td>\n",
       "      <td>22668</td>\n",
       "      <td>45.18</td>\n",
       "      <td>4.3</td>\n",
       "      <td>1</td>\n",
       "      <td>1</td>\n",
       "    </tr>\n",
       "    <tr>\n",
       "      <th>4</th>\n",
       "      <td>1009</td>\n",
       "      <td>Blount</td>\n",
       "      <td>Alabama</td>\n",
       "      <td>50.7</td>\n",
       "      <td>86.9</td>\n",
       "      <td>17.8</td>\n",
       "      <td>48.253</td>\n",
       "      <td>79.784674</td>\n",
       "      <td>58013</td>\n",
       "      <td>43.02</td>\n",
       "      <td>4.7</td>\n",
       "      <td>1</td>\n",
       "      <td>0</td>\n",
       "    </tr>\n",
       "  </tbody>\n",
       "</table>\n",
       "</div>"
      ],
      "text/plain": [
       "   FIPS   County    State  % Female  % Non-Hispanic White  % 65 and over  \\\n",
       "0  1001  Autauga  Alabama      51.3                  74.5           15.1   \n",
       "1  1003  Baldwin  Alabama      51.5                  83.0           19.9   \n",
       "2  1005  Barbour  Alabama      47.2                  46.0           18.8   \n",
       "3  1007     Bibb  Alabama      46.5                  74.3           16.0   \n",
       "4  1009   Blount  Alabama      50.7                  86.9           17.8   \n",
       "\n",
       "   Household Income  Percent Educated  Population  Gini Index Estimate  \\\n",
       "0            58.343         87.700302       55504                45.01   \n",
       "1            56.607         90.213394      212628                46.18   \n",
       "2            32.490         73.093197       25270                46.22   \n",
       "3            45.795         82.136326       22668                45.18   \n",
       "4            48.253         79.784674       58013                43.02   \n",
       "\n",
       "   Mentally Unhealthy Days  Good/Bad Health  Predicted  \n",
       "0                      4.3                1          0  \n",
       "1                      4.2                1          1  \n",
       "2                      4.6                1          1  \n",
       "3                      4.3                1          1  \n",
       "4                      4.7                1          0  "
      ]
     },
     "execution_count": 276,
     "metadata": {},
     "output_type": "execute_result"
    }
   ],
   "source": [
    "X_train, X_test, y_train, y_test = train_test_split(X, Y, test_size=0.2, random_state=None)\n",
    "    \n",
    "logmodel = MLPClassifier(hidden_layer_sizes=(2048,512), solver='adam', max_iter=100000) \n",
    "logmodel.fit(X_train, y_train)\n",
    "y_pred = logmodel.predict(X_test)\n",
    "\n",
    "df3 = pd.DataFrame({'Predicted': y_pred})\n",
    "\n",
    "df4 = df2.join(df3,how='right')\n",
    "\n",
    "df4.head()"
   ]
  },
  {
   "cell_type": "code",
   "execution_count": 277,
   "metadata": {},
   "outputs": [
    {
     "name": "stdout",
     "output_type": "stream",
     "text": [
      "correct:  317 out of 629 predictions\n"
     ]
    }
   ],
   "source": [
    "err = []\n",
    "for index, row in df4.iterrows():\n",
    "    error = row['Predicted']-row['Good/Bad Health']\n",
    "    if error != 0:\n",
    "        err.append(1)\n",
    "print(\"correct: \", len(df4)-len(err), \"out of\", len(df4), \"predictions\")"
   ]
  },
  {
   "cell_type": "code",
   "execution_count": 241,
   "metadata": {},
   "outputs": [],
   "source": [
    "model = sm.OLS(Y, X, missing = 'drop')\n",
    "results = model.fit()\n",
    "print_model = results.summary()  \n",
    "#print(print_model)"
   ]
  },
  {
   "cell_type": "markdown",
   "metadata": {},
   "source": [
    "#### Print plot to visualize relationship"
   ]
  },
  {
   "cell_type": "code",
   "execution_count": 10,
   "metadata": {},
   "outputs": [],
   "source": [
    "#plot = sns.jointplot(x=df[ctl5], y=Y, data=df, kind = 'reg', joint_kws={'line_kws':{'color':'red'}})\n",
    "#plot"
   ]
  }
 ],
 "metadata": {
  "kernelspec": {
   "display_name": "Python 3",
   "language": "python",
   "name": "python3"
  },
  "language_info": {
   "codemirror_mode": {
    "name": "ipython",
    "version": 3
   },
   "file_extension": ".py",
   "mimetype": "text/x-python",
   "name": "python",
   "nbconvert_exporter": "python",
   "pygments_lexer": "ipython3",
   "version": "3.7.3"
  }
 },
 "nbformat": 4,
 "nbformat_minor": 2
}
