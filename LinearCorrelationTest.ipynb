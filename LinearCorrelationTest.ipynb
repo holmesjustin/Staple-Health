{
 "cells": [
  {
   "cell_type": "code",
   "execution_count": 1,
   "metadata": {},
   "outputs": [],
   "source": [
    "import pandas as pd\n",
    "import numpy as np\n",
    "import statsmodels.api as sm\n",
    "import seaborn as sns\n",
    "import random\n",
    "import matplotlib.pyplot as plt  \n",
    "from sklearn.model_selection import train_test_split \n",
    "from sklearn.linear_model import LinearRegression\n",
    "from sklearn import metrics\n",
    "import operator\n",
    "pd.set_option('mode.chained_assignment', None)"
   ]
  },
  {
   "cell_type": "code",
   "execution_count": 2,
   "metadata": {},
   "outputs": [],
   "source": [
    "%matplotlib inline"
   ]
  },
  {
   "cell_type": "code",
   "execution_count": 3,
   "metadata": {},
   "outputs": [],
   "source": [
    "#Create the dataframe we are going to use\n",
    "df = pd.read_csv(\"/Users/JustinHolmes/Desktop/Staple Health/County/Mental Health Data/Concatenated_Data/US_County_All_Data_71019.csv\", skiprows = 0, sep = ',', header = 0, dtype = {'FIPS': 'Int32'})\n",
    "#Change any values to get better-looking results\n",
    "#df['Household Income'] = df['Household Income'].apply(lambda x: x*.001)\n",
    "\n",
    "#Print the head of the dataframe to see if it imports correctly\n",
    "#print(df.head())"
   ]
  },
  {
   "cell_type": "code",
   "execution_count": 4,
   "metadata": {},
   "outputs": [],
   "source": [
    "#Set the independent variable using the column names\n",
    "ind1 = '% with SNAP'\n",
    "\n",
    "# '% with SNAP'\n",
    "# 'Average Daily PM2.5 (Air Pollution)'\n",
    "# 'Association Rate'\n",
    "# 'Gini Index Estimate'\n",
    "# '% Adult Obese'\n",
    "# 'Teen Birth Rate'\n",
    "# 'Life Expectancy'"
   ]
  },
  {
   "cell_type": "code",
   "execution_count": 5,
   "metadata": {},
   "outputs": [],
   "source": [
    "#Set the control variables using the column names\n",
    "ctl1 = '% Female'\n",
    "ctl2 = '% Non-Hispanic White'\n",
    "ctl3 = '% 65 and over'\n",
    "ctl4 = 'Household Income (In tens of thousands)'\n",
    "ctl5 = 'Percent Educated'"
   ]
  },
  {
   "cell_type": "code",
   "execution_count": 6,
   "metadata": {},
   "outputs": [],
   "source": [
    "#Set the dependent variable using the column name\n",
    "dep1 = 'Mentally Unhealthy Days'"
   ]
  },
  {
   "cell_type": "code",
   "execution_count": 7,
   "metadata": {},
   "outputs": [],
   "source": [
    "#Following variables used for the regression analysis\n",
    "#X = df[[ind1, ind2, ind3, ind4, ind5]].iloc[0:100]\n",
    "X = df[[ind1, ctl1, ctl2, ctl3, ctl4, ctl5]]\n",
    "Y = df[dep1]\n",
    "#sm.add_constant(X)"
   ]
  },
  {
   "cell_type": "code",
   "execution_count": 8,
   "metadata": {},
   "outputs": [],
   "source": [
    "model = sm.OLS(Y, X, missing = 'drop')\n",
    "results = model.fit()\n",
    "print_model = results.summary()  \n",
    "#print(print_model)"
   ]
  },
  {
   "cell_type": "markdown",
   "metadata": {},
   "source": [
    "#### Plot to visualize relationship"
   ]
  },
  {
   "cell_type": "code",
   "execution_count": 9,
   "metadata": {},
   "outputs": [],
   "source": [
    "#plot = sns.jointplot(x=df[ctl5], y=Y, data=df, kind = 'reg', joint_kws={'line_kws':{'color':'red'}})\n",
    "#plot"
   ]
  },
  {
   "cell_type": "markdown",
   "metadata": {},
   "source": [
    "### Before each time you run the function, initialize the list and dictionary, then run the cells to define the functions, then set the number of iterations you want, then run the cell that calls the functions"
   ]
  },
  {
   "cell_type": "code",
   "execution_count": 11,
   "metadata": {},
   "outputs": [],
   "source": [
    "errorCounties = []\n",
    "commonErrors = {}\n",
    "avgError = {}"
   ]
  },
  {
   "cell_type": "code",
   "execution_count": 12,
   "metadata": {},
   "outputs": [],
   "source": [
    "def train(iterations, daysOff):\n",
    "    X_train, X_test, y_train, y_test = train_test_split(X, Y, test_size=0.2, random_state=None)\n",
    "    \n",
    "    regressor = LinearRegression()  \n",
    "    regressor.fit(X_train, y_train)\n",
    "\n",
    "    coeff_df = pd.DataFrame(regressor.coef_, X.columns, columns=['Coefficient'])  \n",
    "\n",
    "    y_pred = regressor.predict(X_test)\n",
    "\n",
    "    df1 = pd.DataFrame({'Predicted MH': y_pred, 'Actual MH': y_test})\n",
    "\n",
    "    test = df1.join(df,how='left')\n",
    "\n",
    "    df2 = test[[\"FIPS\", \"County_x\", \"State_x\", \"Gini Index Estimate\", \"Predicted MH\", \"Actual MH\"]].copy()\n",
    "    df2.rename(columns={'County_x':'County', \"State_x\":\"State\"}, inplace=True)\n",
    "\n",
    "    \n",
    "    ## Testing to see if there is a correlation between the Gini Index and Percent Error\n",
    "    df3 = df2\n",
    "\n",
    "    err = []\n",
    "    for index, row in df2.iterrows():\n",
    "        error = row['Predicted MH']-row['Actual MH']\n",
    "        err.append(error)\n",
    "\n",
    "    df3['Error (Days)'] = err\n",
    "\n",
    "    #error_test = sns.jointplot(x=\"Gini Index Estimate\", y=\"Error (Days)\", data=df3, kind = 'reg', joint_kws={'line_kws':{'color':'red'}})\n",
    "    #error_test\n",
    "\n",
    "    \n",
    "    ## Check which counties often are inaccurate\n",
    "    for index, row in df3.iterrows():\n",
    "        if abs(row[6]) > daysOff:\n",
    "            errorCounties.append(row[0])\n",
    "        if row[0] not in avgError:\n",
    "            avgError[row[0]] = row[6]\n",
    "        else:\n",
    "            avgError[row[0]]+=(row[6])\n",
    "        \n",
    "    return df3"
   ]
  },
  {
   "cell_type": "code",
   "execution_count": 13,
   "metadata": {},
   "outputs": [],
   "source": [
    "def getError(percentOff):    \n",
    "    for ele in errorCounties:\n",
    "        if ele not in commonErrors:\n",
    "            commonErrors[ele] = 1\n",
    "        else:\n",
    "            commonErrors[ele] +=1\n",
    "        \n",
    "    df4 = df[['FIPS','County_x', 'State_x', \"% Female\", \"% Non-Hispanic White\", \"% 65 and over\", \"Household Income (In tens of thousands)\", \"Percent Educated\", 'Population_x', 'Gini Index Estimate', \"Mentally Unhealthy Days\"]].copy()\n",
    "    df4.rename(columns={'County_x':'County', 'Population_x':'Population', \"State_x\":\"State\", \"Household Income (In tens of thousands)\":\"Household Income\"}, inplace=True)\n",
    "    df4[\"Error\"] = 0\n",
    "    \n",
    "\n",
    "    idx = 0\n",
    "    for index, row in df4.iterrows():\n",
    "        FIPS = row[0]\n",
    "        if FIPS in errorCounties and errorCounties.count(FIPS) >= iterations/(100/percentOff):\n",
    "            df4[\"Error\"][idx] = 1\n",
    "        idx += 1\n",
    "\n",
    "    for index, row in df4.iterrows():\n",
    "        if row[11] == 0:\n",
    "            df4.drop(index, inplace=True)\n",
    "    \n",
    "    return df4"
   ]
  },
  {
   "cell_type": "markdown",
   "metadata": {},
   "source": [
    "### Set desired iterations and error"
   ]
  },
  {
   "cell_type": "code",
   "execution_count": 16,
   "metadata": {},
   "outputs": [],
   "source": [
    "iterations = 500\n",
    "daysOff = 1\n",
    "percentOff = 20\n",
    "for i in range(iterations):\n",
    "    df3 = train(iterations, daysOff)\n",
    "    \n",
    "df4 = getError(percentOff)"
   ]
  },
  {
   "cell_type": "code",
   "execution_count": 17,
   "metadata": {},
   "outputs": [],
   "source": [
    "# sortedCommonErrors = sorted(commonErrors.items(), key=operator.itemgetter(1), reverse = True)\n",
    "# for ele in sortedCommonErrors:\n",
    "#     #Change number to set denominator for percent of trials that each county was an error (i.e. 2 means 25% of the time)\n",
    "#     if ele[1] >= iterations/5:\n",
    "#         print(ele)"
   ]
  },
  {
   "cell_type": "code",
   "execution_count": 18,
   "metadata": {},
   "outputs": [],
   "source": [
    "for ele in commonErrors.items():\n",
    "    ID=ele[0]\n",
    "    count=ele[1]\n",
    "    for index, row in df4.iterrows():\n",
    "        if row[0] == ID:\n",
    "            df4[\"Error\"][index] = count/iterations*100\n",
    "            break"
   ]
  },
  {
   "cell_type": "code",
   "execution_count": 19,
   "metadata": {},
   "outputs": [],
   "source": [
    "df4.rename(columns={'Error':'% Error'}, inplace=True)\n",
    "df4[\"Average Error\"] = 0.0"
   ]
  },
  {
   "cell_type": "code",
   "execution_count": 20,
   "metadata": {},
   "outputs": [],
   "source": [
    "for index, row in df4.iterrows():\n",
    "    ID = row[0]\n",
    "    df4[\"Average Error\"][index] = avgError[ID]/iterations"
   ]
  },
  {
   "cell_type": "markdown",
   "metadata": {},
   "source": [
    "### The following counties are incorrect by more than daysOff (1) days, at least percentOff (20%) of the time:"
   ]
  },
  {
   "cell_type": "code",
   "execution_count": 21,
   "metadata": {},
   "outputs": [
    {
     "name": "stdout",
     "output_type": "stream",
     "text": [
      "There are 56 counties that often have errors while testing for:  % with SNAP\n"
     ]
    }
   ],
   "source": [
    "print(\"There are\", len(df4), \"counties that often have errors while testing for: \", ind1)"
   ]
  },
  {
   "cell_type": "code",
   "execution_count": 22,
   "metadata": {},
   "outputs": [
    {
     "data": {
      "text/html": [
       "<div>\n",
       "<style scoped>\n",
       "    .dataframe tbody tr th:only-of-type {\n",
       "        vertical-align: middle;\n",
       "    }\n",
       "\n",
       "    .dataframe tbody tr th {\n",
       "        vertical-align: top;\n",
       "    }\n",
       "\n",
       "    .dataframe thead th {\n",
       "        text-align: right;\n",
       "    }\n",
       "</style>\n",
       "<table border=\"1\" class=\"dataframe\">\n",
       "  <thead>\n",
       "    <tr style=\"text-align: right;\">\n",
       "      <th></th>\n",
       "      <th>FIPS</th>\n",
       "      <th>County</th>\n",
       "      <th>State</th>\n",
       "      <th>% Female</th>\n",
       "      <th>% Non-Hispanic White</th>\n",
       "      <th>% 65 and over</th>\n",
       "      <th>Household Income</th>\n",
       "      <th>Percent Educated</th>\n",
       "      <th>Population</th>\n",
       "      <th>Gini Index Estimate</th>\n",
       "      <th>Mentally Unhealthy Days</th>\n",
       "      <th>% Error</th>\n",
       "      <th>Average Error</th>\n",
       "    </tr>\n",
       "  </thead>\n",
       "  <tbody>\n",
       "    <tr>\n",
       "      <th>113</th>\n",
       "      <td>5005</td>\n",
       "      <td>Baxter</td>\n",
       "      <td>Arkansas</td>\n",
       "      <td>51.7</td>\n",
       "      <td>94.8</td>\n",
       "      <td>30.8</td>\n",
       "      <td>43.011</td>\n",
       "      <td>87.318772</td>\n",
       "      <td>41355</td>\n",
       "      <td>44.50</td>\n",
       "      <td>5.1</td>\n",
       "      <td>39</td>\n",
       "      <td>-0.489672</td>\n",
       "    </tr>\n",
       "    <tr>\n",
       "      <th>117</th>\n",
       "      <td>5013</td>\n",
       "      <td>Calhoun</td>\n",
       "      <td>Arkansas</td>\n",
       "      <td>49.9</td>\n",
       "      <td>72.1</td>\n",
       "      <td>21.1</td>\n",
       "      <td>42.484</td>\n",
       "      <td>84.162409</td>\n",
       "      <td>5247</td>\n",
       "      <td>44.05</td>\n",
       "      <td>5.0</td>\n",
       "      <td>41</td>\n",
       "      <td>-0.481281</td>\n",
       "    </tr>\n",
       "    <tr>\n",
       "      <th>136</th>\n",
       "      <td>5051</td>\n",
       "      <td>Garland</td>\n",
       "      <td>Arkansas</td>\n",
       "      <td>51.9</td>\n",
       "      <td>82.1</td>\n",
       "      <td>23.7</td>\n",
       "      <td>44.662</td>\n",
       "      <td>88.203727</td>\n",
       "      <td>98658</td>\n",
       "      <td>48.87</td>\n",
       "      <td>5.0</td>\n",
       "      <td>33</td>\n",
       "      <td>-0.400945</td>\n",
       "    </tr>\n",
       "    <tr>\n",
       "      <th>154</th>\n",
       "      <td>5087</td>\n",
       "      <td>Madison</td>\n",
       "      <td>Arkansas</td>\n",
       "      <td>50.0</td>\n",
       "      <td>89.6</td>\n",
       "      <td>18.8</td>\n",
       "      <td>40.568</td>\n",
       "      <td>79.640828</td>\n",
       "      <td>16339</td>\n",
       "      <td>46.26</td>\n",
       "      <td>5.1</td>\n",
       "      <td>36</td>\n",
       "      <td>-0.390866</td>\n",
       "    </tr>\n",
       "    <tr>\n",
       "      <th>160</th>\n",
       "      <td>5099</td>\n",
       "      <td>Nevada</td>\n",
       "      <td>Arkansas</td>\n",
       "      <td>50.3</td>\n",
       "      <td>62.6</td>\n",
       "      <td>20.4</td>\n",
       "      <td>46.687</td>\n",
       "      <td>85.755764</td>\n",
       "      <td>8327</td>\n",
       "      <td>40.77</td>\n",
       "      <td>5.3</td>\n",
       "      <td>37</td>\n",
       "      <td>-0.388876</td>\n",
       "    </tr>\n",
       "  </tbody>\n",
       "</table>\n",
       "</div>"
      ],
      "text/plain": [
       "     FIPS   County     State  % Female  % Non-Hispanic White  % 65 and over  \\\n",
       "113  5005   Baxter  Arkansas      51.7                  94.8           30.8   \n",
       "117  5013  Calhoun  Arkansas      49.9                  72.1           21.1   \n",
       "136  5051  Garland  Arkansas      51.9                  82.1           23.7   \n",
       "154  5087  Madison  Arkansas      50.0                  89.6           18.8   \n",
       "160  5099   Nevada  Arkansas      50.3                  62.6           20.4   \n",
       "\n",
       "     Household Income  Percent Educated  Population  Gini Index Estimate  \\\n",
       "113            43.011         87.318772       41355                44.50   \n",
       "117            42.484         84.162409        5247                44.05   \n",
       "136            44.662         88.203727       98658                48.87   \n",
       "154            40.568         79.640828       16339                46.26   \n",
       "160            46.687         85.755764        8327                40.77   \n",
       "\n",
       "     Mentally Unhealthy Days  % Error  Average Error  \n",
       "113                      5.1       39      -0.489672  \n",
       "117                      5.0       41      -0.481281  \n",
       "136                      5.0       33      -0.400945  \n",
       "154                      5.1       36      -0.390866  \n",
       "160                      5.3       37      -0.388876  "
      ]
     },
     "execution_count": 22,
     "metadata": {},
     "output_type": "execute_result"
    }
   ],
   "source": [
    "df4.head()"
   ]
  },
  {
   "cell_type": "code",
   "execution_count": 23,
   "metadata": {},
   "outputs": [
    {
     "data": {
      "text/plain": [
       "<seaborn.axisgrid.JointGrid at 0x1c272dcbe0>"
      ]
     },
     "execution_count": 23,
     "metadata": {},
     "output_type": "execute_result"
    },
    {
     "data": {
      "image/png": "[encoded data removed]",
      "text/plain": [
       "<Figure size 432x432 with 3 Axes>"
      ]
     },
     "metadata": {
      "needs_background": "light"
     },
     "output_type": "display_data"
    }
   ],
   "source": [
    "plot = sns.jointplot(x=[\"Mentally Unhealthy Days\"], y=[\"Average Error\"], data=df4, kind = 'reg', joint_kws={'line_kws':{'color':'red'}})\n",
    "plot\n",
    "\n"
   ]
  }
 ],
 "metadata": {
  "kernelspec": {
   "display_name": "Python 3",
   "language": "python",
   "name": "python3"
  },
  "language_info": {
   "codemirror_mode": {
    "name": "ipython",
    "version": 3
   },
   "file_extension": ".py",
   "mimetype": "text/x-python",
   "name": "python",
   "nbconvert_exporter": "python",
   "pygments_lexer": "ipython3",
   "version": "3.7.3"
  }
 },
 "nbformat": 4,
 "nbformat_minor": 2
}
