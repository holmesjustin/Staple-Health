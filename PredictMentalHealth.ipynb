{
 "cells": [
  {
   "cell_type": "code",
   "execution_count": 2440,
   "metadata": {},
   "outputs": [],
   "source": [
    "# data analysis and wrangling\n",
    "import pandas as pd\n",
    "import numpy as np\n",
    "import random as rnd\n",
    "from sklearn.model_selection import train_test_split\n",
    "from sklearn.preprocessing import StandardScaler\n",
    "from sklearn.preprocessing import MinMaxScaler\n",
    "\n",
    "# visualization\n",
    "import seaborn as sns\n",
    "import matplotlib.pyplot as plt\n",
    "%matplotlib inline\n",
    "\n",
    "\n",
    "# machine learning\n",
    "from sklearn.linear_model import LinearRegression\n",
    "from sklearn.linear_model import LogisticRegression\n",
    "from sklearn.svm import SVC, LinearSVC\n",
    "from sklearn.ensemble import RandomForestClassifier\n",
    "from sklearn.neighbors import KNeighborsClassifier\n",
    "from sklearn.naive_bayes import GaussianNB\n",
    "from sklearn.linear_model import Perceptron\n",
    "from sklearn.linear_model import SGDClassifier\n",
    "from sklearn.tree import DecisionTreeClassifier\n",
    "\n",
    "# warnings\n",
    "import warnings\n",
    "warnings.filterwarnings('ignore')"
   ]
  },
  {
   "cell_type": "code",
   "execution_count": 2441,
   "metadata": {},
   "outputs": [],
   "source": [
    "main_df = pd.read_csv(\"/Users/JustinHolmes/Desktop/Staple Health/County/Concatenated_Data/US_County_All_Data_71719.csv\",\n",
    "                      header = 0,)\n"
   ]
  },
  {
   "cell_type": "code",
   "execution_count": 2442,
   "metadata": {},
   "outputs": [],
   "source": [
    "main_df = maindf[[\"FIPS\", \"State\", \"County\", \"% with SNAP\", 'Gini Index Estimate', 'Life Expectancy',\n",
    "                 'Violent Crime Rate', 'Property Crime Rate', 'Percent Educated', '% Female', '% Non-Hispanic White',\n",
    "                '% 65 and over', 'Household Income (In tens of thousands)', 'Mentally Unhealthy Days']]"
   ]
  },
  {
   "cell_type": "code",
   "execution_count": 2443,
   "metadata": {},
   "outputs": [
    {
     "data": {
      "text/html": [
       "<div>\n",
       "<style scoped>\n",
       "    .dataframe tbody tr th:only-of-type {\n",
       "        vertical-align: middle;\n",
       "    }\n",
       "\n",
       "    .dataframe tbody tr th {\n",
       "        vertical-align: top;\n",
       "    }\n",
       "\n",
       "    .dataframe thead th {\n",
       "        text-align: right;\n",
       "    }\n",
       "</style>\n",
       "<table border=\"1\" class=\"dataframe\">\n",
       "  <thead>\n",
       "    <tr style=\"text-align: right;\">\n",
       "      <th></th>\n",
       "      <th>FIPS</th>\n",
       "      <th>State</th>\n",
       "      <th>County</th>\n",
       "      <th>% with SNAP</th>\n",
       "      <th>Gini Index Estimate</th>\n",
       "      <th>Life Expectancy</th>\n",
       "      <th>Violent Crime Rate</th>\n",
       "      <th>Property Crime Rate</th>\n",
       "      <th>Percent Educated</th>\n",
       "      <th>% Female</th>\n",
       "      <th>% Non-Hispanic White</th>\n",
       "      <th>% 65 and over</th>\n",
       "      <th>Household Income (In tens of thousands)</th>\n",
       "      <th>Mentally Unhealthy Days</th>\n",
       "    </tr>\n",
       "  </thead>\n",
       "  <tbody>\n",
       "    <tr>\n",
       "      <th>0</th>\n",
       "      <td>1001</td>\n",
       "      <td>Alabama</td>\n",
       "      <td>Autauga</td>\n",
       "      <td>12.798077</td>\n",
       "      <td>45.01</td>\n",
       "      <td>76.3</td>\n",
       "      <td>42.0</td>\n",
       "      <td>485.0</td>\n",
       "      <td>87.700302</td>\n",
       "      <td>51.3</td>\n",
       "      <td>74.5</td>\n",
       "      <td>15.1</td>\n",
       "      <td>58.343</td>\n",
       "      <td>4.3</td>\n",
       "    </tr>\n",
       "    <tr>\n",
       "      <th>1</th>\n",
       "      <td>1003</td>\n",
       "      <td>Alabama</td>\n",
       "      <td>Baldwin</td>\n",
       "      <td>8.898322</td>\n",
       "      <td>46.18</td>\n",
       "      <td>78.6</td>\n",
       "      <td>47.0</td>\n",
       "      <td>358.0</td>\n",
       "      <td>90.213394</td>\n",
       "      <td>51.5</td>\n",
       "      <td>83.0</td>\n",
       "      <td>19.9</td>\n",
       "      <td>56.607</td>\n",
       "      <td>4.2</td>\n",
       "    </tr>\n",
       "    <tr>\n",
       "      <th>2</th>\n",
       "      <td>1005</td>\n",
       "      <td>Alabama</td>\n",
       "      <td>Barbour</td>\n",
       "      <td>25.356281</td>\n",
       "      <td>46.22</td>\n",
       "      <td>75.8</td>\n",
       "      <td>56.0</td>\n",
       "      <td>445.0</td>\n",
       "      <td>73.093197</td>\n",
       "      <td>47.2</td>\n",
       "      <td>46.0</td>\n",
       "      <td>18.8</td>\n",
       "      <td>32.490</td>\n",
       "      <td>4.6</td>\n",
       "    </tr>\n",
       "    <tr>\n",
       "      <th>3</th>\n",
       "      <td>1007</td>\n",
       "      <td>Alabama</td>\n",
       "      <td>Bibb</td>\n",
       "      <td>14.841090</td>\n",
       "      <td>45.18</td>\n",
       "      <td>73.9</td>\n",
       "      <td>58.0</td>\n",
       "      <td>244.0</td>\n",
       "      <td>82.136326</td>\n",
       "      <td>46.5</td>\n",
       "      <td>74.3</td>\n",
       "      <td>16.0</td>\n",
       "      <td>45.795</td>\n",
       "      <td>4.3</td>\n",
       "    </tr>\n",
       "    <tr>\n",
       "      <th>4</th>\n",
       "      <td>1009</td>\n",
       "      <td>Alabama</td>\n",
       "      <td>Blount</td>\n",
       "      <td>11.523353</td>\n",
       "      <td>43.02</td>\n",
       "      <td>74.6</td>\n",
       "      <td>5.0</td>\n",
       "      <td>132.0</td>\n",
       "      <td>79.784674</td>\n",
       "      <td>50.7</td>\n",
       "      <td>86.9</td>\n",
       "      <td>17.8</td>\n",
       "      <td>48.253</td>\n",
       "      <td>4.7</td>\n",
       "    </tr>\n",
       "  </tbody>\n",
       "</table>\n",
       "</div>"
      ],
      "text/plain": [
       "   FIPS    State   County  % with SNAP  Gini Index Estimate  Life Expectancy  \\\n",
       "0  1001  Alabama  Autauga    12.798077                45.01             76.3   \n",
       "1  1003  Alabama  Baldwin     8.898322                46.18             78.6   \n",
       "2  1005  Alabama  Barbour    25.356281                46.22             75.8   \n",
       "3  1007  Alabama     Bibb    14.841090                45.18             73.9   \n",
       "4  1009  Alabama   Blount    11.523353                43.02             74.6   \n",
       "\n",
       "   Violent Crime Rate  Property Crime Rate  Percent Educated  % Female  \\\n",
       "0                42.0                485.0         87.700302      51.3   \n",
       "1                47.0                358.0         90.213394      51.5   \n",
       "2                56.0                445.0         73.093197      47.2   \n",
       "3                58.0                244.0         82.136326      46.5   \n",
       "4                 5.0                132.0         79.784674      50.7   \n",
       "\n",
       "   % Non-Hispanic White  % 65 and over  \\\n",
       "0                  74.5           15.1   \n",
       "1                  83.0           19.9   \n",
       "2                  46.0           18.8   \n",
       "3                  74.3           16.0   \n",
       "4                  86.9           17.8   \n",
       "\n",
       "   Household Income (In tens of thousands)  Mentally Unhealthy Days  \n",
       "0                                   58.343                      4.3  \n",
       "1                                   56.607                      4.2  \n",
       "2                                   32.490                      4.6  \n",
       "3                                   45.795                      4.3  \n",
       "4                                   48.253                      4.7  "
      ]
     },
     "execution_count": 2443,
     "metadata": {},
     "output_type": "execute_result"
    }
   ],
   "source": [
    "data = [main_df]\n",
    "main_df.head()"
   ]
  },
  {
   "cell_type": "markdown",
   "metadata": {},
   "source": [
    "### Fix NaN"
   ]
  },
  {
   "cell_type": "code",
   "execution_count": 2444,
   "metadata": {},
   "outputs": [
    {
     "data": {
      "text/plain": [
       "FIPS                                        0\n",
       "State                                       0\n",
       "County                                      0\n",
       "% with SNAP                                 0\n",
       "Gini Index Estimate                         0\n",
       "Life Expectancy                            69\n",
       "Violent Crime Rate                          8\n",
       "Property Crime Rate                         8\n",
       "Percent Educated                            0\n",
       "% Female                                    0\n",
       "% Non-Hispanic White                        0\n",
       "% 65 and over                               0\n",
       "Household Income (In tens of thousands)     0\n",
       "Mentally Unhealthy Days                     0\n",
       "dtype: int64"
      ]
     },
     "execution_count": 2444,
     "metadata": {},
     "output_type": "execute_result"
    }
   ],
   "source": [
    "main_df.isna().sum()"
   ]
  },
  {
   "cell_type": "code",
   "execution_count": 2445,
   "metadata": {},
   "outputs": [
    {
     "data": {
      "text/plain": [
       "77.5"
      ]
     },
     "execution_count": 2445,
     "metadata": {},
     "output_type": "execute_result"
    }
   ],
   "source": [
    "freq_life_exp = main_df[\"Life Expectancy\"].median()\n",
    "freq_life_exp"
   ]
  },
  {
   "cell_type": "code",
   "execution_count": 2446,
   "metadata": {},
   "outputs": [
    {
     "data": {
      "text/plain": [
       "84.0"
      ]
     },
     "execution_count": 2446,
     "metadata": {},
     "output_type": "execute_result"
    }
   ],
   "source": [
    "freq_violent_crime = main_df[\"Violent Crime Rate\"].median()\n",
    "freq_violent_crime"
   ]
  },
  {
   "cell_type": "code",
   "execution_count": 2447,
   "metadata": {},
   "outputs": [
    {
     "data": {
      "text/plain": [
       "317.0"
      ]
     },
     "execution_count": 2447,
     "metadata": {},
     "output_type": "execute_result"
    }
   ],
   "source": [
    "freq_prop_crime = main_df[\"Property Crime Rate\"].median()\n",
    "freq_prop_crime"
   ]
  },
  {
   "cell_type": "code",
   "execution_count": 2448,
   "metadata": {},
   "outputs": [],
   "source": [
    "for dataset in data:\n",
    "    dataset[\"Life Expectancy\"] = dataset[\"Life Expectancy\"].fillna(freq_life_exp)\n",
    "    dataset[\"Violent Crime Rate\"] = dataset[\"Violent Crime Rate\"].fillna(freq_violent_crime)\n",
    "    dataset[\"Property Crime Rate\"] = dataset[\"Property Crime Rate\"].fillna(freq_prop_crime)"
   ]
  },
  {
   "cell_type": "code",
   "execution_count": 2449,
   "metadata": {},
   "outputs": [
    {
     "data": {
      "text/plain": [
       "FIPS                                       0\n",
       "State                                      0\n",
       "County                                     0\n",
       "% with SNAP                                0\n",
       "Gini Index Estimate                        0\n",
       "Life Expectancy                            0\n",
       "Violent Crime Rate                         0\n",
       "Property Crime Rate                        0\n",
       "Percent Educated                           0\n",
       "% Female                                   0\n",
       "% Non-Hispanic White                       0\n",
       "% 65 and over                              0\n",
       "Household Income (In tens of thousands)    0\n",
       "Mentally Unhealthy Days                    0\n",
       "dtype: int64"
      ]
     },
     "execution_count": 2449,
     "metadata": {},
     "output_type": "execute_result"
    }
   ],
   "source": [
    "main_df.isna().sum()"
   ]
  },
  {
   "cell_type": "markdown",
   "metadata": {},
   "source": [
    "## Create dataframe with only columns we want to look at"
   ]
  },
  {
   "cell_type": "code",
   "execution_count": 2450,
   "metadata": {},
   "outputs": [
    {
     "data": {
      "text/html": [
       "<div>\n",
       "<style scoped>\n",
       "    .dataframe tbody tr th:only-of-type {\n",
       "        vertical-align: middle;\n",
       "    }\n",
       "\n",
       "    .dataframe tbody tr th {\n",
       "        vertical-align: top;\n",
       "    }\n",
       "\n",
       "    .dataframe thead th {\n",
       "        text-align: right;\n",
       "    }\n",
       "</style>\n",
       "<table border=\"1\" class=\"dataframe\">\n",
       "  <thead>\n",
       "    <tr style=\"text-align: right;\">\n",
       "      <th></th>\n",
       "      <th>% with SNAP</th>\n",
       "      <th>Gini Index Estimate</th>\n",
       "      <th>Life Expectancy</th>\n",
       "      <th>Violent Crime Rate</th>\n",
       "      <th>Property Crime Rate</th>\n",
       "      <th>Percent Educated</th>\n",
       "      <th>% Female</th>\n",
       "      <th>% Non-Hispanic White</th>\n",
       "      <th>% 65 and over</th>\n",
       "      <th>Household Income</th>\n",
       "      <th>Mentally Unhealthy Days</th>\n",
       "    </tr>\n",
       "  </thead>\n",
       "  <tbody>\n",
       "    <tr>\n",
       "      <th>0</th>\n",
       "      <td>12.798077</td>\n",
       "      <td>45.01</td>\n",
       "      <td>76.3</td>\n",
       "      <td>42.0</td>\n",
       "      <td>485.0</td>\n",
       "      <td>87.700302</td>\n",
       "      <td>51.3</td>\n",
       "      <td>74.5</td>\n",
       "      <td>15.1</td>\n",
       "      <td>58.343</td>\n",
       "      <td>4.3</td>\n",
       "    </tr>\n",
       "    <tr>\n",
       "      <th>1</th>\n",
       "      <td>8.898322</td>\n",
       "      <td>46.18</td>\n",
       "      <td>78.6</td>\n",
       "      <td>47.0</td>\n",
       "      <td>358.0</td>\n",
       "      <td>90.213394</td>\n",
       "      <td>51.5</td>\n",
       "      <td>83.0</td>\n",
       "      <td>19.9</td>\n",
       "      <td>56.607</td>\n",
       "      <td>4.2</td>\n",
       "    </tr>\n",
       "    <tr>\n",
       "      <th>2</th>\n",
       "      <td>25.356281</td>\n",
       "      <td>46.22</td>\n",
       "      <td>75.8</td>\n",
       "      <td>56.0</td>\n",
       "      <td>445.0</td>\n",
       "      <td>73.093197</td>\n",
       "      <td>47.2</td>\n",
       "      <td>46.0</td>\n",
       "      <td>18.8</td>\n",
       "      <td>32.490</td>\n",
       "      <td>4.6</td>\n",
       "    </tr>\n",
       "    <tr>\n",
       "      <th>3</th>\n",
       "      <td>14.841090</td>\n",
       "      <td>45.18</td>\n",
       "      <td>73.9</td>\n",
       "      <td>58.0</td>\n",
       "      <td>244.0</td>\n",
       "      <td>82.136326</td>\n",
       "      <td>46.5</td>\n",
       "      <td>74.3</td>\n",
       "      <td>16.0</td>\n",
       "      <td>45.795</td>\n",
       "      <td>4.3</td>\n",
       "    </tr>\n",
       "    <tr>\n",
       "      <th>4</th>\n",
       "      <td>11.523353</td>\n",
       "      <td>43.02</td>\n",
       "      <td>74.6</td>\n",
       "      <td>5.0</td>\n",
       "      <td>132.0</td>\n",
       "      <td>79.784674</td>\n",
       "      <td>50.7</td>\n",
       "      <td>86.9</td>\n",
       "      <td>17.8</td>\n",
       "      <td>48.253</td>\n",
       "      <td>4.7</td>\n",
       "    </tr>\n",
       "  </tbody>\n",
       "</table>\n",
       "</div>"
      ],
      "text/plain": [
       "   % with SNAP  Gini Index Estimate  Life Expectancy  Violent Crime Rate  \\\n",
       "0    12.798077                45.01             76.3                42.0   \n",
       "1     8.898322                46.18             78.6                47.0   \n",
       "2    25.356281                46.22             75.8                56.0   \n",
       "3    14.841090                45.18             73.9                58.0   \n",
       "4    11.523353                43.02             74.6                 5.0   \n",
       "\n",
       "   Property Crime Rate  Percent Educated  % Female  % Non-Hispanic White  \\\n",
       "0                485.0         87.700302      51.3                  74.5   \n",
       "1                358.0         90.213394      51.5                  83.0   \n",
       "2                445.0         73.093197      47.2                  46.0   \n",
       "3                244.0         82.136326      46.5                  74.3   \n",
       "4                132.0         79.784674      50.7                  86.9   \n",
       "\n",
       "   % 65 and over  Household Income  Mentally Unhealthy Days  \n",
       "0           15.1            58.343                      4.3  \n",
       "1           19.9            56.607                      4.2  \n",
       "2           18.8            32.490                      4.6  \n",
       "3           16.0            45.795                      4.3  \n",
       "4           17.8            48.253                      4.7  "
      ]
     },
     "execution_count": 2450,
     "metadata": {},
     "output_type": "execute_result"
    }
   ],
   "source": [
    "var_df = main_df.drop([\"FIPS\",\"State\",\"County\"], axis=1)\n",
    "var_df.rename(columns={'Household Income (In tens of thousands)':'Household Income'}, inplace=True)\n",
    "var_df.head()"
   ]
  },
  {
   "cell_type": "code",
   "execution_count": 2451,
   "metadata": {},
   "outputs": [],
   "source": [
    "var_df[\"Violent Crime Rate\"] = var_df[\"Violent Crime Rate\"].astype(int)\n",
    "var_df[\"Property Crime Rate\"] = var_df[\"Property Crime Rate\"].astype(int)\n",
    "var_df[\"% with SNAP\"] = round(var_df[\"% with SNAP\"], 1)\n",
    "var_df[\"Percent Educated\"] = round(var_df[\"Percent Educated\"], 1)\n",
    "var_df[\"Household Income\"] = round(var_df[\"Household Income\"], 3)\n"
   ]
  },
  {
   "cell_type": "code",
   "execution_count": 2452,
   "metadata": {},
   "outputs": [
    {
     "data": {
      "text/html": [
       "<div>\n",
       "<style scoped>\n",
       "    .dataframe tbody tr th:only-of-type {\n",
       "        vertical-align: middle;\n",
       "    }\n",
       "\n",
       "    .dataframe tbody tr th {\n",
       "        vertical-align: top;\n",
       "    }\n",
       "\n",
       "    .dataframe thead th {\n",
       "        text-align: right;\n",
       "    }\n",
       "</style>\n",
       "<table border=\"1\" class=\"dataframe\">\n",
       "  <thead>\n",
       "    <tr style=\"text-align: right;\">\n",
       "      <th></th>\n",
       "      <th>% with SNAP</th>\n",
       "      <th>Gini Index Estimate</th>\n",
       "      <th>Life Expectancy</th>\n",
       "      <th>Violent Crime Rate</th>\n",
       "      <th>Property Crime Rate</th>\n",
       "      <th>Percent Educated</th>\n",
       "      <th>% Female</th>\n",
       "      <th>% Non-Hispanic White</th>\n",
       "      <th>% 65 and over</th>\n",
       "      <th>Household Income</th>\n",
       "      <th>Mentally Unhealthy Days</th>\n",
       "    </tr>\n",
       "  </thead>\n",
       "  <tbody>\n",
       "    <tr>\n",
       "      <th>0</th>\n",
       "      <td>12.8</td>\n",
       "      <td>45.01</td>\n",
       "      <td>76.3</td>\n",
       "      <td>42</td>\n",
       "      <td>485</td>\n",
       "      <td>87.7</td>\n",
       "      <td>51.3</td>\n",
       "      <td>74.5</td>\n",
       "      <td>15.1</td>\n",
       "      <td>58.343</td>\n",
       "      <td>4.3</td>\n",
       "    </tr>\n",
       "    <tr>\n",
       "      <th>1</th>\n",
       "      <td>8.9</td>\n",
       "      <td>46.18</td>\n",
       "      <td>78.6</td>\n",
       "      <td>47</td>\n",
       "      <td>358</td>\n",
       "      <td>90.2</td>\n",
       "      <td>51.5</td>\n",
       "      <td>83.0</td>\n",
       "      <td>19.9</td>\n",
       "      <td>56.607</td>\n",
       "      <td>4.2</td>\n",
       "    </tr>\n",
       "    <tr>\n",
       "      <th>2</th>\n",
       "      <td>25.4</td>\n",
       "      <td>46.22</td>\n",
       "      <td>75.8</td>\n",
       "      <td>56</td>\n",
       "      <td>445</td>\n",
       "      <td>73.1</td>\n",
       "      <td>47.2</td>\n",
       "      <td>46.0</td>\n",
       "      <td>18.8</td>\n",
       "      <td>32.490</td>\n",
       "      <td>4.6</td>\n",
       "    </tr>\n",
       "    <tr>\n",
       "      <th>3</th>\n",
       "      <td>14.8</td>\n",
       "      <td>45.18</td>\n",
       "      <td>73.9</td>\n",
       "      <td>58</td>\n",
       "      <td>244</td>\n",
       "      <td>82.1</td>\n",
       "      <td>46.5</td>\n",
       "      <td>74.3</td>\n",
       "      <td>16.0</td>\n",
       "      <td>45.795</td>\n",
       "      <td>4.3</td>\n",
       "    </tr>\n",
       "    <tr>\n",
       "      <th>4</th>\n",
       "      <td>11.5</td>\n",
       "      <td>43.02</td>\n",
       "      <td>74.6</td>\n",
       "      <td>5</td>\n",
       "      <td>132</td>\n",
       "      <td>79.8</td>\n",
       "      <td>50.7</td>\n",
       "      <td>86.9</td>\n",
       "      <td>17.8</td>\n",
       "      <td>48.253</td>\n",
       "      <td>4.7</td>\n",
       "    </tr>\n",
       "  </tbody>\n",
       "</table>\n",
       "</div>"
      ],
      "text/plain": [
       "   % with SNAP  Gini Index Estimate  Life Expectancy  Violent Crime Rate  \\\n",
       "0         12.8                45.01             76.3                  42   \n",
       "1          8.9                46.18             78.6                  47   \n",
       "2         25.4                46.22             75.8                  56   \n",
       "3         14.8                45.18             73.9                  58   \n",
       "4         11.5                43.02             74.6                   5   \n",
       "\n",
       "   Property Crime Rate  Percent Educated  % Female  % Non-Hispanic White  \\\n",
       "0                  485              87.7      51.3                  74.5   \n",
       "1                  358              90.2      51.5                  83.0   \n",
       "2                  445              73.1      47.2                  46.0   \n",
       "3                  244              82.1      46.5                  74.3   \n",
       "4                  132              79.8      50.7                  86.9   \n",
       "\n",
       "   % 65 and over  Household Income  Mentally Unhealthy Days  \n",
       "0           15.1            58.343                      4.3  \n",
       "1           19.9            56.607                      4.2  \n",
       "2           18.8            32.490                      4.6  \n",
       "3           16.0            45.795                      4.3  \n",
       "4           17.8            48.253                      4.7  "
      ]
     },
     "execution_count": 2452,
     "metadata": {},
     "output_type": "execute_result"
    }
   ],
   "source": [
    "var_df.head()"
   ]
  },
  {
   "cell_type": "markdown",
   "metadata": {},
   "source": [
    "## Create bands to categorize data for analysis"
   ]
  },
  {
   "cell_type": "code",
   "execution_count": 2453,
   "metadata": {},
   "outputs": [],
   "source": [
    "var_df[\"MHBand\"] = pd.qcut(var_df[\"Mentally Unhealthy Days\"], 4)"
   ]
  },
  {
   "cell_type": "code",
   "execution_count": 2454,
   "metadata": {},
   "outputs": [
    {
     "data": {
      "text/html": [
       "<div>\n",
       "<style scoped>\n",
       "    .dataframe tbody tr th:only-of-type {\n",
       "        vertical-align: middle;\n",
       "    }\n",
       "\n",
       "    .dataframe tbody tr th {\n",
       "        vertical-align: top;\n",
       "    }\n",
       "\n",
       "    .dataframe thead th {\n",
       "        text-align: right;\n",
       "    }\n",
       "</style>\n",
       "<table border=\"1\" class=\"dataframe\">\n",
       "  <thead>\n",
       "    <tr style=\"text-align: right;\">\n",
       "      <th></th>\n",
       "      <th>MHBand</th>\n",
       "      <th>% with SNAP</th>\n",
       "    </tr>\n",
       "  </thead>\n",
       "  <tbody>\n",
       "    <tr>\n",
       "      <th>0</th>\n",
       "      <td>(2.399, 3.5]</td>\n",
       "      <td>8.178186</td>\n",
       "    </tr>\n",
       "    <tr>\n",
       "      <th>1</th>\n",
       "      <td>(3.5, 3.9]</td>\n",
       "      <td>12.791086</td>\n",
       "    </tr>\n",
       "    <tr>\n",
       "      <th>2</th>\n",
       "      <td>(3.9, 4.3]</td>\n",
       "      <td>16.249740</td>\n",
       "    </tr>\n",
       "    <tr>\n",
       "      <th>3</th>\n",
       "      <td>(4.3, 6.0]</td>\n",
       "      <td>19.750575</td>\n",
       "    </tr>\n",
       "  </tbody>\n",
       "</table>\n",
       "</div>"
      ],
      "text/plain": [
       "         MHBand  % with SNAP\n",
       "0  (2.399, 3.5]     8.178186\n",
       "1    (3.5, 3.9]    12.791086\n",
       "2    (3.9, 4.3]    16.249740\n",
       "3    (4.3, 6.0]    19.750575"
      ]
     },
     "execution_count": 2454,
     "metadata": {},
     "output_type": "execute_result"
    }
   ],
   "source": [
    "var_df[[\"% with SNAP\", \"MHBand\"]].groupby([\"MHBand\"],\n",
    "        as_index=False).mean().sort_values(by='% with SNAP', ascending=True)\n"
   ]
  },
  {
   "cell_type": "code",
   "execution_count": 2455,
   "metadata": {},
   "outputs": [
    {
     "data": {
      "text/html": [
       "<div>\n",
       "<style scoped>\n",
       "    .dataframe tbody tr th:only-of-type {\n",
       "        vertical-align: middle;\n",
       "    }\n",
       "\n",
       "    .dataframe tbody tr th {\n",
       "        vertical-align: top;\n",
       "    }\n",
       "\n",
       "    .dataframe thead th {\n",
       "        text-align: right;\n",
       "    }\n",
       "</style>\n",
       "<table border=\"1\" class=\"dataframe\">\n",
       "  <thead>\n",
       "    <tr style=\"text-align: right;\">\n",
       "      <th></th>\n",
       "      <th>% with SNAP</th>\n",
       "      <th>Gini Index Estimate</th>\n",
       "      <th>Life Expectancy</th>\n",
       "      <th>Violent Crime Rate</th>\n",
       "      <th>Property Crime Rate</th>\n",
       "      <th>Percent Educated</th>\n",
       "      <th>% Female</th>\n",
       "      <th>% Non-Hispanic White</th>\n",
       "      <th>% 65 and over</th>\n",
       "      <th>Household Income</th>\n",
       "      <th>Mentally Unhealthy Days</th>\n",
       "      <th>MHBand</th>\n",
       "    </tr>\n",
       "  </thead>\n",
       "  <tbody>\n",
       "    <tr>\n",
       "      <th>0</th>\n",
       "      <td>12.8</td>\n",
       "      <td>45.01</td>\n",
       "      <td>76.3</td>\n",
       "      <td>42</td>\n",
       "      <td>485</td>\n",
       "      <td>87.7</td>\n",
       "      <td>51.3</td>\n",
       "      <td>74.5</td>\n",
       "      <td>15.1</td>\n",
       "      <td>58.343</td>\n",
       "      <td>4.3</td>\n",
       "      <td>(3.9, 4.3]</td>\n",
       "    </tr>\n",
       "    <tr>\n",
       "      <th>1</th>\n",
       "      <td>8.9</td>\n",
       "      <td>46.18</td>\n",
       "      <td>78.6</td>\n",
       "      <td>47</td>\n",
       "      <td>358</td>\n",
       "      <td>90.2</td>\n",
       "      <td>51.5</td>\n",
       "      <td>83.0</td>\n",
       "      <td>19.9</td>\n",
       "      <td>56.607</td>\n",
       "      <td>4.2</td>\n",
       "      <td>(3.9, 4.3]</td>\n",
       "    </tr>\n",
       "    <tr>\n",
       "      <th>2</th>\n",
       "      <td>25.4</td>\n",
       "      <td>46.22</td>\n",
       "      <td>75.8</td>\n",
       "      <td>56</td>\n",
       "      <td>445</td>\n",
       "      <td>73.1</td>\n",
       "      <td>47.2</td>\n",
       "      <td>46.0</td>\n",
       "      <td>18.8</td>\n",
       "      <td>32.490</td>\n",
       "      <td>4.6</td>\n",
       "      <td>(4.3, 6.0]</td>\n",
       "    </tr>\n",
       "    <tr>\n",
       "      <th>3</th>\n",
       "      <td>14.8</td>\n",
       "      <td>45.18</td>\n",
       "      <td>73.9</td>\n",
       "      <td>58</td>\n",
       "      <td>244</td>\n",
       "      <td>82.1</td>\n",
       "      <td>46.5</td>\n",
       "      <td>74.3</td>\n",
       "      <td>16.0</td>\n",
       "      <td>45.795</td>\n",
       "      <td>4.3</td>\n",
       "      <td>(3.9, 4.3]</td>\n",
       "    </tr>\n",
       "    <tr>\n",
       "      <th>4</th>\n",
       "      <td>11.5</td>\n",
       "      <td>43.02</td>\n",
       "      <td>74.6</td>\n",
       "      <td>5</td>\n",
       "      <td>132</td>\n",
       "      <td>79.8</td>\n",
       "      <td>50.7</td>\n",
       "      <td>86.9</td>\n",
       "      <td>17.8</td>\n",
       "      <td>48.253</td>\n",
       "      <td>4.7</td>\n",
       "      <td>(4.3, 6.0]</td>\n",
       "    </tr>\n",
       "  </tbody>\n",
       "</table>\n",
       "</div>"
      ],
      "text/plain": [
       "   % with SNAP  Gini Index Estimate  Life Expectancy  Violent Crime Rate  \\\n",
       "0         12.8                45.01             76.3                  42   \n",
       "1          8.9                46.18             78.6                  47   \n",
       "2         25.4                46.22             75.8                  56   \n",
       "3         14.8                45.18             73.9                  58   \n",
       "4         11.5                43.02             74.6                   5   \n",
       "\n",
       "   Property Crime Rate  Percent Educated  % Female  % Non-Hispanic White  \\\n",
       "0                  485              87.7      51.3                  74.5   \n",
       "1                  358              90.2      51.5                  83.0   \n",
       "2                  445              73.1      47.2                  46.0   \n",
       "3                  244              82.1      46.5                  74.3   \n",
       "4                  132              79.8      50.7                  86.9   \n",
       "\n",
       "   % 65 and over  Household Income  Mentally Unhealthy Days      MHBand  \n",
       "0           15.1            58.343                      4.3  (3.9, 4.3]  \n",
       "1           19.9            56.607                      4.2  (3.9, 4.3]  \n",
       "2           18.8            32.490                      4.6  (4.3, 6.0]  \n",
       "3           16.0            45.795                      4.3  (3.9, 4.3]  \n",
       "4           17.8            48.253                      4.7  (4.3, 6.0]  "
      ]
     },
     "execution_count": 2455,
     "metadata": {},
     "output_type": "execute_result"
    }
   ],
   "source": [
    "data = [var_df]\n",
    "var_df.head()"
   ]
  },
  {
   "cell_type": "code",
   "execution_count": 2456,
   "metadata": {},
   "outputs": [
    {
     "data": {
      "text/html": [
       "<div>\n",
       "<style scoped>\n",
       "    .dataframe tbody tr th:only-of-type {\n",
       "        vertical-align: middle;\n",
       "    }\n",
       "\n",
       "    .dataframe tbody tr th {\n",
       "        vertical-align: top;\n",
       "    }\n",
       "\n",
       "    .dataframe thead th {\n",
       "        text-align: right;\n",
       "    }\n",
       "</style>\n",
       "<table border=\"1\" class=\"dataframe\">\n",
       "  <thead>\n",
       "    <tr style=\"text-align: right;\">\n",
       "      <th></th>\n",
       "      <th>% with SNAP</th>\n",
       "      <th>Gini Index Estimate</th>\n",
       "      <th>Life Expectancy</th>\n",
       "      <th>Violent Crime Rate</th>\n",
       "      <th>Property Crime Rate</th>\n",
       "      <th>Percent Educated</th>\n",
       "      <th>% Female</th>\n",
       "      <th>% Non-Hispanic White</th>\n",
       "      <th>% 65 and over</th>\n",
       "      <th>Household Income</th>\n",
       "      <th>Mentally Unhealthy Days</th>\n",
       "      <th>MHBand</th>\n",
       "      <th>MHCat</th>\n",
       "    </tr>\n",
       "  </thead>\n",
       "  <tbody>\n",
       "    <tr>\n",
       "      <th>0</th>\n",
       "      <td>12.8</td>\n",
       "      <td>45.01</td>\n",
       "      <td>76.3</td>\n",
       "      <td>42</td>\n",
       "      <td>485</td>\n",
       "      <td>87.7</td>\n",
       "      <td>51.3</td>\n",
       "      <td>74.5</td>\n",
       "      <td>15.1</td>\n",
       "      <td>58.343</td>\n",
       "      <td>4.3</td>\n",
       "      <td>(3.9, 4.3]</td>\n",
       "      <td>2.0</td>\n",
       "    </tr>\n",
       "    <tr>\n",
       "      <th>1</th>\n",
       "      <td>8.9</td>\n",
       "      <td>46.18</td>\n",
       "      <td>78.6</td>\n",
       "      <td>47</td>\n",
       "      <td>358</td>\n",
       "      <td>90.2</td>\n",
       "      <td>51.5</td>\n",
       "      <td>83.0</td>\n",
       "      <td>19.9</td>\n",
       "      <td>56.607</td>\n",
       "      <td>4.2</td>\n",
       "      <td>(3.9, 4.3]</td>\n",
       "      <td>2.0</td>\n",
       "    </tr>\n",
       "    <tr>\n",
       "      <th>2</th>\n",
       "      <td>25.4</td>\n",
       "      <td>46.22</td>\n",
       "      <td>75.8</td>\n",
       "      <td>56</td>\n",
       "      <td>445</td>\n",
       "      <td>73.1</td>\n",
       "      <td>47.2</td>\n",
       "      <td>46.0</td>\n",
       "      <td>18.8</td>\n",
       "      <td>32.490</td>\n",
       "      <td>4.6</td>\n",
       "      <td>(4.3, 6.0]</td>\n",
       "      <td>3.0</td>\n",
       "    </tr>\n",
       "    <tr>\n",
       "      <th>3</th>\n",
       "      <td>14.8</td>\n",
       "      <td>45.18</td>\n",
       "      <td>73.9</td>\n",
       "      <td>58</td>\n",
       "      <td>244</td>\n",
       "      <td>82.1</td>\n",
       "      <td>46.5</td>\n",
       "      <td>74.3</td>\n",
       "      <td>16.0</td>\n",
       "      <td>45.795</td>\n",
       "      <td>4.3</td>\n",
       "      <td>(3.9, 4.3]</td>\n",
       "      <td>2.0</td>\n",
       "    </tr>\n",
       "    <tr>\n",
       "      <th>4</th>\n",
       "      <td>11.5</td>\n",
       "      <td>43.02</td>\n",
       "      <td>74.6</td>\n",
       "      <td>5</td>\n",
       "      <td>132</td>\n",
       "      <td>79.8</td>\n",
       "      <td>50.7</td>\n",
       "      <td>86.9</td>\n",
       "      <td>17.8</td>\n",
       "      <td>48.253</td>\n",
       "      <td>4.7</td>\n",
       "      <td>(4.3, 6.0]</td>\n",
       "      <td>3.0</td>\n",
       "    </tr>\n",
       "  </tbody>\n",
       "</table>\n",
       "</div>"
      ],
      "text/plain": [
       "   % with SNAP  Gini Index Estimate  Life Expectancy  Violent Crime Rate  \\\n",
       "0         12.8                45.01             76.3                  42   \n",
       "1          8.9                46.18             78.6                  47   \n",
       "2         25.4                46.22             75.8                  56   \n",
       "3         14.8                45.18             73.9                  58   \n",
       "4         11.5                43.02             74.6                   5   \n",
       "\n",
       "   Property Crime Rate  Percent Educated  % Female  % Non-Hispanic White  \\\n",
       "0                  485              87.7      51.3                  74.5   \n",
       "1                  358              90.2      51.5                  83.0   \n",
       "2                  445              73.1      47.2                  46.0   \n",
       "3                  244              82.1      46.5                  74.3   \n",
       "4                  132              79.8      50.7                  86.9   \n",
       "\n",
       "   % 65 and over  Household Income  Mentally Unhealthy Days      MHBand  MHCat  \n",
       "0           15.1            58.343                      4.3  (3.9, 4.3]    2.0  \n",
       "1           19.9            56.607                      4.2  (3.9, 4.3]    2.0  \n",
       "2           18.8            32.490                      4.6  (4.3, 6.0]    3.0  \n",
       "3           16.0            45.795                      4.3  (3.9, 4.3]    2.0  \n",
       "4           17.8            48.253                      4.7  (4.3, 6.0]    3.0  "
      ]
     },
     "execution_count": 2456,
     "metadata": {},
     "output_type": "execute_result"
    }
   ],
   "source": [
    "for dataset in data:\n",
    "    dataset.loc[dataset['Mentally Unhealthy Days'] <= 3.5, 'MHCat'] = 0\n",
    "    dataset.loc[(dataset['Mentally Unhealthy Days'] > 3.5) & (dataset['Mentally Unhealthy Days'] <= 3.9), 'MHCat'] = 1\n",
    "    dataset.loc[(dataset['Mentally Unhealthy Days'] > 3.9) & (dataset['Mentally Unhealthy Days'] <= 4.3), 'MHCat'] = 2\n",
    "    dataset.loc[ dataset['Mentally Unhealthy Days'] > 4.3, 'MHCat'] = 3\n",
    "    \n",
    "    \n",
    "var_df.head()"
   ]
  },
  {
   "cell_type": "code",
   "execution_count": 2457,
   "metadata": {},
   "outputs": [
    {
     "data": {
      "text/html": [
       "<div>\n",
       "<style scoped>\n",
       "    .dataframe tbody tr th:only-of-type {\n",
       "        vertical-align: middle;\n",
       "    }\n",
       "\n",
       "    .dataframe tbody tr th {\n",
       "        vertical-align: top;\n",
       "    }\n",
       "\n",
       "    .dataframe thead th {\n",
       "        text-align: right;\n",
       "    }\n",
       "</style>\n",
       "<table border=\"1\" class=\"dataframe\">\n",
       "  <thead>\n",
       "    <tr style=\"text-align: right;\">\n",
       "      <th></th>\n",
       "      <th>% with SNAP</th>\n",
       "      <th>Gini Index Estimate</th>\n",
       "      <th>Life Expectancy</th>\n",
       "      <th>Violent Crime Rate</th>\n",
       "      <th>Property Crime Rate</th>\n",
       "      <th>Percent Educated</th>\n",
       "      <th>% Female</th>\n",
       "      <th>% Non-Hispanic White</th>\n",
       "      <th>% 65 and over</th>\n",
       "      <th>Household Income</th>\n",
       "      <th>Mentally Unhealthy Days</th>\n",
       "      <th>MHCat</th>\n",
       "    </tr>\n",
       "  </thead>\n",
       "  <tbody>\n",
       "    <tr>\n",
       "      <th>0</th>\n",
       "      <td>12.8</td>\n",
       "      <td>45.01</td>\n",
       "      <td>76.3</td>\n",
       "      <td>42</td>\n",
       "      <td>485</td>\n",
       "      <td>87.7</td>\n",
       "      <td>51.3</td>\n",
       "      <td>74.5</td>\n",
       "      <td>15.1</td>\n",
       "      <td>58.343</td>\n",
       "      <td>4.3</td>\n",
       "      <td>2</td>\n",
       "    </tr>\n",
       "    <tr>\n",
       "      <th>1</th>\n",
       "      <td>8.9</td>\n",
       "      <td>46.18</td>\n",
       "      <td>78.6</td>\n",
       "      <td>47</td>\n",
       "      <td>358</td>\n",
       "      <td>90.2</td>\n",
       "      <td>51.5</td>\n",
       "      <td>83.0</td>\n",
       "      <td>19.9</td>\n",
       "      <td>56.607</td>\n",
       "      <td>4.2</td>\n",
       "      <td>2</td>\n",
       "    </tr>\n",
       "    <tr>\n",
       "      <th>2</th>\n",
       "      <td>25.4</td>\n",
       "      <td>46.22</td>\n",
       "      <td>75.8</td>\n",
       "      <td>56</td>\n",
       "      <td>445</td>\n",
       "      <td>73.1</td>\n",
       "      <td>47.2</td>\n",
       "      <td>46.0</td>\n",
       "      <td>18.8</td>\n",
       "      <td>32.490</td>\n",
       "      <td>4.6</td>\n",
       "      <td>3</td>\n",
       "    </tr>\n",
       "    <tr>\n",
       "      <th>3</th>\n",
       "      <td>14.8</td>\n",
       "      <td>45.18</td>\n",
       "      <td>73.9</td>\n",
       "      <td>58</td>\n",
       "      <td>244</td>\n",
       "      <td>82.1</td>\n",
       "      <td>46.5</td>\n",
       "      <td>74.3</td>\n",
       "      <td>16.0</td>\n",
       "      <td>45.795</td>\n",
       "      <td>4.3</td>\n",
       "      <td>2</td>\n",
       "    </tr>\n",
       "    <tr>\n",
       "      <th>4</th>\n",
       "      <td>11.5</td>\n",
       "      <td>43.02</td>\n",
       "      <td>74.6</td>\n",
       "      <td>5</td>\n",
       "      <td>132</td>\n",
       "      <td>79.8</td>\n",
       "      <td>50.7</td>\n",
       "      <td>86.9</td>\n",
       "      <td>17.8</td>\n",
       "      <td>48.253</td>\n",
       "      <td>4.7</td>\n",
       "      <td>3</td>\n",
       "    </tr>\n",
       "  </tbody>\n",
       "</table>\n",
       "</div>"
      ],
      "text/plain": [
       "   % with SNAP  Gini Index Estimate  Life Expectancy  Violent Crime Rate  \\\n",
       "0         12.8                45.01             76.3                  42   \n",
       "1          8.9                46.18             78.6                  47   \n",
       "2         25.4                46.22             75.8                  56   \n",
       "3         14.8                45.18             73.9                  58   \n",
       "4         11.5                43.02             74.6                   5   \n",
       "\n",
       "   Property Crime Rate  Percent Educated  % Female  % Non-Hispanic White  \\\n",
       "0                  485              87.7      51.3                  74.5   \n",
       "1                  358              90.2      51.5                  83.0   \n",
       "2                  445              73.1      47.2                  46.0   \n",
       "3                  244              82.1      46.5                  74.3   \n",
       "4                  132              79.8      50.7                  86.9   \n",
       "\n",
       "   % 65 and over  Household Income  Mentally Unhealthy Days  MHCat  \n",
       "0           15.1            58.343                      4.3      2  \n",
       "1           19.9            56.607                      4.2      2  \n",
       "2           18.8            32.490                      4.6      3  \n",
       "3           16.0            45.795                      4.3      2  \n",
       "4           17.8            48.253                      4.7      3  "
      ]
     },
     "execution_count": 2457,
     "metadata": {},
     "output_type": "execute_result"
    }
   ],
   "source": [
    "var_df[\"MHCat\"] = var_df[\"MHCat\"].astype(int)\n",
    "var_df = var_df.drop([\"MHBand\"], axis=1)\n",
    "data = [var_df]\n",
    "var_df.head()"
   ]
  },
  {
   "cell_type": "code",
   "execution_count": 2458,
   "metadata": {},
   "outputs": [
    {
     "data": {
      "text/html": [
       "<div>\n",
       "<style scoped>\n",
       "    .dataframe tbody tr th:only-of-type {\n",
       "        vertical-align: middle;\n",
       "    }\n",
       "\n",
       "    .dataframe tbody tr th {\n",
       "        vertical-align: top;\n",
       "    }\n",
       "\n",
       "    .dataframe thead th {\n",
       "        text-align: right;\n",
       "    }\n",
       "</style>\n",
       "<table border=\"1\" class=\"dataframe\">\n",
       "  <thead>\n",
       "    <tr style=\"text-align: right;\">\n",
       "      <th></th>\n",
       "      <th>SnapBand</th>\n",
       "      <th>Mentally Unhealthy Days</th>\n",
       "    </tr>\n",
       "  </thead>\n",
       "  <tbody>\n",
       "    <tr>\n",
       "      <th>0</th>\n",
       "      <td>(-0.001, 9.3]</td>\n",
       "      <td>3.329077</td>\n",
       "    </tr>\n",
       "    <tr>\n",
       "      <th>1</th>\n",
       "      <td>(9.3, 13.3]</td>\n",
       "      <td>3.802375</td>\n",
       "    </tr>\n",
       "    <tr>\n",
       "      <th>2</th>\n",
       "      <td>(13.3, 17.9]</td>\n",
       "      <td>4.132812</td>\n",
       "    </tr>\n",
       "    <tr>\n",
       "      <th>3</th>\n",
       "      <td>(17.9, 56.7]</td>\n",
       "      <td>4.474968</td>\n",
       "    </tr>\n",
       "  </tbody>\n",
       "</table>\n",
       "</div>"
      ],
      "text/plain": [
       "        SnapBand  Mentally Unhealthy Days\n",
       "0  (-0.001, 9.3]                 3.329077\n",
       "1    (9.3, 13.3]                 3.802375\n",
       "2   (13.3, 17.9]                 4.132812\n",
       "3   (17.9, 56.7]                 4.474968"
      ]
     },
     "execution_count": 2458,
     "metadata": {},
     "output_type": "execute_result"
    }
   ],
   "source": [
    "var_df[\"SnapBand\"] = pd.qcut(var_df[\"% with SNAP\"], 4)\n",
    "var_df[[\"SnapBand\", \"Mentally Unhealthy Days\"]].groupby([\"SnapBand\"],\n",
    "        as_index=False).mean().sort_values(by='Mentally Unhealthy Days', ascending=True)"
   ]
  },
  {
   "cell_type": "code",
   "execution_count": 2459,
   "metadata": {},
   "outputs": [
    {
     "data": {
      "text/html": [
       "<div>\n",
       "<style scoped>\n",
       "    .dataframe tbody tr th:only-of-type {\n",
       "        vertical-align: middle;\n",
       "    }\n",
       "\n",
       "    .dataframe tbody tr th {\n",
       "        vertical-align: top;\n",
       "    }\n",
       "\n",
       "    .dataframe thead th {\n",
       "        text-align: right;\n",
       "    }\n",
       "</style>\n",
       "<table border=\"1\" class=\"dataframe\">\n",
       "  <thead>\n",
       "    <tr style=\"text-align: right;\">\n",
       "      <th></th>\n",
       "      <th>% with SNAP</th>\n",
       "      <th>Gini Index Estimate</th>\n",
       "      <th>Life Expectancy</th>\n",
       "      <th>Violent Crime Rate</th>\n",
       "      <th>Property Crime Rate</th>\n",
       "      <th>Percent Educated</th>\n",
       "      <th>% Female</th>\n",
       "      <th>% Non-Hispanic White</th>\n",
       "      <th>% 65 and over</th>\n",
       "      <th>Household Income</th>\n",
       "      <th>Mentally Unhealthy Days</th>\n",
       "      <th>MHCat</th>\n",
       "      <th>SnapBand</th>\n",
       "      <th>SnapCat</th>\n",
       "    </tr>\n",
       "  </thead>\n",
       "  <tbody>\n",
       "    <tr>\n",
       "      <th>0</th>\n",
       "      <td>12.8</td>\n",
       "      <td>45.01</td>\n",
       "      <td>76.3</td>\n",
       "      <td>42</td>\n",
       "      <td>485</td>\n",
       "      <td>87.7</td>\n",
       "      <td>51.3</td>\n",
       "      <td>74.5</td>\n",
       "      <td>15.1</td>\n",
       "      <td>58.343</td>\n",
       "      <td>4.3</td>\n",
       "      <td>2</td>\n",
       "      <td>(9.3, 13.3]</td>\n",
       "      <td>1.0</td>\n",
       "    </tr>\n",
       "    <tr>\n",
       "      <th>1</th>\n",
       "      <td>8.9</td>\n",
       "      <td>46.18</td>\n",
       "      <td>78.6</td>\n",
       "      <td>47</td>\n",
       "      <td>358</td>\n",
       "      <td>90.2</td>\n",
       "      <td>51.5</td>\n",
       "      <td>83.0</td>\n",
       "      <td>19.9</td>\n",
       "      <td>56.607</td>\n",
       "      <td>4.2</td>\n",
       "      <td>2</td>\n",
       "      <td>(-0.001, 9.3]</td>\n",
       "      <td>0.0</td>\n",
       "    </tr>\n",
       "    <tr>\n",
       "      <th>2</th>\n",
       "      <td>25.4</td>\n",
       "      <td>46.22</td>\n",
       "      <td>75.8</td>\n",
       "      <td>56</td>\n",
       "      <td>445</td>\n",
       "      <td>73.1</td>\n",
       "      <td>47.2</td>\n",
       "      <td>46.0</td>\n",
       "      <td>18.8</td>\n",
       "      <td>32.490</td>\n",
       "      <td>4.6</td>\n",
       "      <td>3</td>\n",
       "      <td>(17.9, 56.7]</td>\n",
       "      <td>3.0</td>\n",
       "    </tr>\n",
       "    <tr>\n",
       "      <th>3</th>\n",
       "      <td>14.8</td>\n",
       "      <td>45.18</td>\n",
       "      <td>73.9</td>\n",
       "      <td>58</td>\n",
       "      <td>244</td>\n",
       "      <td>82.1</td>\n",
       "      <td>46.5</td>\n",
       "      <td>74.3</td>\n",
       "      <td>16.0</td>\n",
       "      <td>45.795</td>\n",
       "      <td>4.3</td>\n",
       "      <td>2</td>\n",
       "      <td>(13.3, 17.9]</td>\n",
       "      <td>2.0</td>\n",
       "    </tr>\n",
       "    <tr>\n",
       "      <th>4</th>\n",
       "      <td>11.5</td>\n",
       "      <td>43.02</td>\n",
       "      <td>74.6</td>\n",
       "      <td>5</td>\n",
       "      <td>132</td>\n",
       "      <td>79.8</td>\n",
       "      <td>50.7</td>\n",
       "      <td>86.9</td>\n",
       "      <td>17.8</td>\n",
       "      <td>48.253</td>\n",
       "      <td>4.7</td>\n",
       "      <td>3</td>\n",
       "      <td>(9.3, 13.3]</td>\n",
       "      <td>1.0</td>\n",
       "    </tr>\n",
       "  </tbody>\n",
       "</table>\n",
       "</div>"
      ],
      "text/plain": [
       "   % with SNAP  Gini Index Estimate  Life Expectancy  Violent Crime Rate  \\\n",
       "0         12.8                45.01             76.3                  42   \n",
       "1          8.9                46.18             78.6                  47   \n",
       "2         25.4                46.22             75.8                  56   \n",
       "3         14.8                45.18             73.9                  58   \n",
       "4         11.5                43.02             74.6                   5   \n",
       "\n",
       "   Property Crime Rate  Percent Educated  % Female  % Non-Hispanic White  \\\n",
       "0                  485              87.7      51.3                  74.5   \n",
       "1                  358              90.2      51.5                  83.0   \n",
       "2                  445              73.1      47.2                  46.0   \n",
       "3                  244              82.1      46.5                  74.3   \n",
       "4                  132              79.8      50.7                  86.9   \n",
       "\n",
       "   % 65 and over  Household Income  Mentally Unhealthy Days  MHCat  \\\n",
       "0           15.1            58.343                      4.3      2   \n",
       "1           19.9            56.607                      4.2      2   \n",
       "2           18.8            32.490                      4.6      3   \n",
       "3           16.0            45.795                      4.3      2   \n",
       "4           17.8            48.253                      4.7      3   \n",
       "\n",
       "        SnapBand  SnapCat  \n",
       "0    (9.3, 13.3]      1.0  \n",
       "1  (-0.001, 9.3]      0.0  \n",
       "2   (17.9, 56.7]      3.0  \n",
       "3   (13.3, 17.9]      2.0  \n",
       "4    (9.3, 13.3]      1.0  "
      ]
     },
     "execution_count": 2459,
     "metadata": {},
     "output_type": "execute_result"
    }
   ],
   "source": [
    "for dataset in data:\n",
    "    dataset.loc[dataset['% with SNAP'] <= 9.3, 'SnapCat'] = 0\n",
    "    dataset.loc[(dataset['% with SNAP'] > 9.3) & (dataset['% with SNAP'] <= 13.3), 'SnapCat'] = 1\n",
    "    dataset.loc[(dataset['% with SNAP'] > 13.3) & (dataset['% with SNAP'] <= 17.9), 'SnapCat'] = 2\n",
    "    dataset.loc[dataset['% with SNAP'] > 17.9,'SnapCat'] = 3\n",
    "    \n",
    "var_df.head()"
   ]
  },
  {
   "cell_type": "code",
   "execution_count": 2460,
   "metadata": {},
   "outputs": [
    {
     "data": {
      "text/html": [
       "<div>\n",
       "<style scoped>\n",
       "    .dataframe tbody tr th:only-of-type {\n",
       "        vertical-align: middle;\n",
       "    }\n",
       "\n",
       "    .dataframe tbody tr th {\n",
       "        vertical-align: top;\n",
       "    }\n",
       "\n",
       "    .dataframe thead th {\n",
       "        text-align: right;\n",
       "    }\n",
       "</style>\n",
       "<table border=\"1\" class=\"dataframe\">\n",
       "  <thead>\n",
       "    <tr style=\"text-align: right;\">\n",
       "      <th></th>\n",
       "      <th>% with SNAP</th>\n",
       "      <th>Gini Index Estimate</th>\n",
       "      <th>Life Expectancy</th>\n",
       "      <th>Violent Crime Rate</th>\n",
       "      <th>Property Crime Rate</th>\n",
       "      <th>Percent Educated</th>\n",
       "      <th>% Female</th>\n",
       "      <th>% Non-Hispanic White</th>\n",
       "      <th>% 65 and over</th>\n",
       "      <th>Household Income</th>\n",
       "      <th>Mentally Unhealthy Days</th>\n",
       "      <th>MHCat</th>\n",
       "      <th>SnapCat</th>\n",
       "    </tr>\n",
       "  </thead>\n",
       "  <tbody>\n",
       "    <tr>\n",
       "      <th>0</th>\n",
       "      <td>12.8</td>\n",
       "      <td>45.01</td>\n",
       "      <td>76.3</td>\n",
       "      <td>42</td>\n",
       "      <td>485</td>\n",
       "      <td>87.7</td>\n",
       "      <td>51.3</td>\n",
       "      <td>74.5</td>\n",
       "      <td>15.1</td>\n",
       "      <td>58.343</td>\n",
       "      <td>4.3</td>\n",
       "      <td>2</td>\n",
       "      <td>1</td>\n",
       "    </tr>\n",
       "    <tr>\n",
       "      <th>1</th>\n",
       "      <td>8.9</td>\n",
       "      <td>46.18</td>\n",
       "      <td>78.6</td>\n",
       "      <td>47</td>\n",
       "      <td>358</td>\n",
       "      <td>90.2</td>\n",
       "      <td>51.5</td>\n",
       "      <td>83.0</td>\n",
       "      <td>19.9</td>\n",
       "      <td>56.607</td>\n",
       "      <td>4.2</td>\n",
       "      <td>2</td>\n",
       "      <td>0</td>\n",
       "    </tr>\n",
       "    <tr>\n",
       "      <th>2</th>\n",
       "      <td>25.4</td>\n",
       "      <td>46.22</td>\n",
       "      <td>75.8</td>\n",
       "      <td>56</td>\n",
       "      <td>445</td>\n",
       "      <td>73.1</td>\n",
       "      <td>47.2</td>\n",
       "      <td>46.0</td>\n",
       "      <td>18.8</td>\n",
       "      <td>32.490</td>\n",
       "      <td>4.6</td>\n",
       "      <td>3</td>\n",
       "      <td>3</td>\n",
       "    </tr>\n",
       "    <tr>\n",
       "      <th>3</th>\n",
       "      <td>14.8</td>\n",
       "      <td>45.18</td>\n",
       "      <td>73.9</td>\n",
       "      <td>58</td>\n",
       "      <td>244</td>\n",
       "      <td>82.1</td>\n",
       "      <td>46.5</td>\n",
       "      <td>74.3</td>\n",
       "      <td>16.0</td>\n",
       "      <td>45.795</td>\n",
       "      <td>4.3</td>\n",
       "      <td>2</td>\n",
       "      <td>2</td>\n",
       "    </tr>\n",
       "    <tr>\n",
       "      <th>4</th>\n",
       "      <td>11.5</td>\n",
       "      <td>43.02</td>\n",
       "      <td>74.6</td>\n",
       "      <td>5</td>\n",
       "      <td>132</td>\n",
       "      <td>79.8</td>\n",
       "      <td>50.7</td>\n",
       "      <td>86.9</td>\n",
       "      <td>17.8</td>\n",
       "      <td>48.253</td>\n",
       "      <td>4.7</td>\n",
       "      <td>3</td>\n",
       "      <td>1</td>\n",
       "    </tr>\n",
       "  </tbody>\n",
       "</table>\n",
       "</div>"
      ],
      "text/plain": [
       "   % with SNAP  Gini Index Estimate  Life Expectancy  Violent Crime Rate  \\\n",
       "0         12.8                45.01             76.3                  42   \n",
       "1          8.9                46.18             78.6                  47   \n",
       "2         25.4                46.22             75.8                  56   \n",
       "3         14.8                45.18             73.9                  58   \n",
       "4         11.5                43.02             74.6                   5   \n",
       "\n",
       "   Property Crime Rate  Percent Educated  % Female  % Non-Hispanic White  \\\n",
       "0                  485              87.7      51.3                  74.5   \n",
       "1                  358              90.2      51.5                  83.0   \n",
       "2                  445              73.1      47.2                  46.0   \n",
       "3                  244              82.1      46.5                  74.3   \n",
       "4                  132              79.8      50.7                  86.9   \n",
       "\n",
       "   % 65 and over  Household Income  Mentally Unhealthy Days  MHCat  SnapCat  \n",
       "0           15.1            58.343                      4.3      2        1  \n",
       "1           19.9            56.607                      4.2      2        0  \n",
       "2           18.8            32.490                      4.6      3        3  \n",
       "3           16.0            45.795                      4.3      2        2  \n",
       "4           17.8            48.253                      4.7      3        1  "
      ]
     },
     "execution_count": 2460,
     "metadata": {},
     "output_type": "execute_result"
    }
   ],
   "source": [
    "var_df[\"SnapCat\"] = var_df[\"SnapCat\"].astype(int)\n",
    "var_df = var_df.drop([\"SnapBand\"], axis=1)\n",
    "data = [var_df]\n",
    "var_df.head()"
   ]
  },
  {
   "cell_type": "code",
   "execution_count": 2462,
   "metadata": {},
   "outputs": [],
   "source": [
    "# var_df[\"GiniBand\"] = pd.qcut(var_df[\"Gini Index Estimate\"], 4)\n",
    "# var_df[[\"GiniBand\", \"Mentally Unhealthy Days\"]].groupby([\"GiniBand\"],\n",
    "#         as_index=False).mean().sort_values(by='GiniBand', ascending=True)"
   ]
  },
  {
   "cell_type": "code",
   "execution_count": 2463,
   "metadata": {},
   "outputs": [],
   "source": [
    "# var_df[\"LifeBand\"] = pd.qcut(var_df[\"Life Expectancy\"], 4)\n",
    "# var_df[[\"LifeBand\", \"Mentally Unhealthy Days\"]].groupby([\"LifeBand\"],\n",
    "#         as_index=False).mean().sort_values(by='LifeBand', ascending=True)"
   ]
  },
  {
   "cell_type": "code",
   "execution_count": 2464,
   "metadata": {},
   "outputs": [],
   "source": [
    "# var_df[\"VCrimeBand\"] = pd.qcut(var_df[\"Violent Crime Rate\"], 4)\n",
    "# var_df[[\"VCrimeBand\", \"Mentally Unhealthy Days\"]].groupby([\"VCrimeBand\"],\n",
    "#         as_index=False).mean().sort_values(by='VCrimeBand', ascending=True)"
   ]
  },
  {
   "cell_type": "code",
   "execution_count": 2465,
   "metadata": {},
   "outputs": [],
   "source": [
    "# var_df[\"PCrimeBand\"] = pd.qcut(var_df[\"Property Crime Rate\"], 4)\n",
    "# var_df[[\"PCrimeBand\", \"Mentally Unhealthy Days\"]].groupby([\"PCrimeBand\"],\n",
    "#         as_index=False).mean().sort_values(by='PCrimeBand', ascending=True)"
   ]
  },
  {
   "cell_type": "code",
   "execution_count": 2466,
   "metadata": {},
   "outputs": [],
   "source": [
    "# var_df[\"EducatedBand\"] = pd.qcut(var_df[\"Percent Educated\"], 4)\n",
    "# var_df[[\"EducatedBand\", \"Mentally Unhealthy Days\"]].groupby([\"EducatedBand\"],\n",
    "#         as_index=False).mean().sort_values(by='EducatedBand', ascending=True)"
   ]
  },
  {
   "cell_type": "code",
   "execution_count": 2467,
   "metadata": {},
   "outputs": [],
   "source": [
    "# var_df[\"IncomeBand\"] = pd.qcut(var_df[\"Household Income\"], 4)\n",
    "# var_df[[\"IncomeBand\", \"Mentally Unhealthy Days\"]].groupby([\"IncomeBand\"],\n",
    "#         as_index=False).mean().sort_values(by='IncomeBand', ascending=True)"
   ]
  },
  {
   "cell_type": "code",
   "execution_count": 2468,
   "metadata": {},
   "outputs": [],
   "source": [
    "# var_df[\"WhiteBand\"] = pd.qcut(var_df[\"% Non-Hispanic White\"], 4)\n",
    "# var_df[[\"WhiteBand\", \"Mentally Unhealthy Days\"]].groupby([\"WhiteBand\"],\n",
    "#         as_index=False).mean().sort_values(by='WhiteBand', ascending=True)"
   ]
  },
  {
   "cell_type": "markdown",
   "metadata": {},
   "source": [
    "## Export dataframe to be uploaded to BigML"
   ]
  },
  {
   "cell_type": "code",
   "execution_count": null,
   "metadata": {},
   "outputs": [],
   "source": [
    "# exported_df = var_df.drop([\"SnapCat\", 'Mentally Unhealthy Days'], axis=1)\n",
    "# exported_df.to_csv(\"/Users/JustinHolmes/Desktop/Staple Health/County/BigML_Data/MentalHealth.csv\",  index=False)"
   ]
  },
  {
   "cell_type": "markdown",
   "metadata": {},
   "source": [
    "## Check Correlations"
   ]
  },
  {
   "cell_type": "code",
   "execution_count": 2469,
   "metadata": {},
   "outputs": [
    {
     "data": {
      "text/html": [
       "<div>\n",
       "<style scoped>\n",
       "    .dataframe tbody tr th:only-of-type {\n",
       "        vertical-align: middle;\n",
       "    }\n",
       "\n",
       "    .dataframe tbody tr th {\n",
       "        vertical-align: top;\n",
       "    }\n",
       "\n",
       "    .dataframe thead th {\n",
       "        text-align: right;\n",
       "    }\n",
       "</style>\n",
       "<table border=\"1\" class=\"dataframe\">\n",
       "  <thead>\n",
       "    <tr style=\"text-align: right;\">\n",
       "      <th></th>\n",
       "      <th>Variables</th>\n",
       "      <th>Correlation with Mentally Unhealthy Days</th>\n",
       "    </tr>\n",
       "  </thead>\n",
       "  <tbody>\n",
       "    <tr>\n",
       "      <th>0</th>\n",
       "      <td>% with SNAP</td>\n",
       "      <td>0.690689</td>\n",
       "    </tr>\n",
       "    <tr>\n",
       "      <th>1</th>\n",
       "      <td>Gini Index Estimate</td>\n",
       "      <td>0.320514</td>\n",
       "    </tr>\n",
       "    <tr>\n",
       "      <th>2</th>\n",
       "      <td>Life Expectancy</td>\n",
       "      <td>-0.625053</td>\n",
       "    </tr>\n",
       "    <tr>\n",
       "      <th>3</th>\n",
       "      <td>Violent Crime Rate</td>\n",
       "      <td>0.213575</td>\n",
       "    </tr>\n",
       "    <tr>\n",
       "      <th>4</th>\n",
       "      <td>Property Crime Rate</td>\n",
       "      <td>0.211405</td>\n",
       "    </tr>\n",
       "    <tr>\n",
       "      <th>5</th>\n",
       "      <td>Percent Educated</td>\n",
       "      <td>-0.481003</td>\n",
       "    </tr>\n",
       "    <tr>\n",
       "      <th>6</th>\n",
       "      <td>% Female</td>\n",
       "      <td>0.168825</td>\n",
       "    </tr>\n",
       "    <tr>\n",
       "      <th>7</th>\n",
       "      <td>% Non-Hispanic White</td>\n",
       "      <td>-0.140397</td>\n",
       "    </tr>\n",
       "    <tr>\n",
       "      <th>8</th>\n",
       "      <td>% 65 and over</td>\n",
       "      <td>-0.021238</td>\n",
       "    </tr>\n",
       "    <tr>\n",
       "      <th>9</th>\n",
       "      <td>Household Income</td>\n",
       "      <td>-0.556586</td>\n",
       "    </tr>\n",
       "    <tr>\n",
       "      <th>10</th>\n",
       "      <td>SnapCat</td>\n",
       "      <td>0.686163</td>\n",
       "    </tr>\n",
       "  </tbody>\n",
       "</table>\n",
       "</div>"
      ],
      "text/plain": [
       "               Variables  Correlation with Mentally Unhealthy Days\n",
       "0            % with SNAP                                  0.690689\n",
       "1    Gini Index Estimate                                  0.320514\n",
       "2        Life Expectancy                                 -0.625053\n",
       "3     Violent Crime Rate                                  0.213575\n",
       "4    Property Crime Rate                                  0.211405\n",
       "5       Percent Educated                                 -0.481003\n",
       "6               % Female                                  0.168825\n",
       "7   % Non-Hispanic White                                 -0.140397\n",
       "8          % 65 and over                                 -0.021238\n",
       "9       Household Income                                 -0.556586\n",
       "10               SnapCat                                  0.686163"
      ]
     },
     "execution_count": 2469,
     "metadata": {},
     "output_type": "execute_result"
    }
   ],
   "source": [
    "corr_df = pd.DataFrame()\n",
    "\n",
    "clmn = list(var_df)\n",
    "\n",
    "x_vars = [x for x in clmn if x != \"MHCat\" and x != \"Mentally Unhealthy Days\"]\n",
    "\n",
    "corr_df[\"Variables\"] = x_vars\n",
    "\n",
    "corr_vals = []\n",
    "for item in x_vars:\n",
    "    corr_vals.append(var_df[item].corr(var_df['Mentally Unhealthy Days']))\n",
    "corr_df[\"Correlation with Mentally Unhealthy Days\"] = corr_vals\n",
    "\n",
    "corr_df"
   ]
  },
  {
   "cell_type": "markdown",
   "metadata": {},
   "source": [
    "## Observations"
   ]
  },
  {
   "cell_type": "markdown",
   "metadata": {},
   "source": [
    "##### As SNAP increases, so does poor mental health\n",
    "##### As Gini Index Increases, so does poor mental health\n",
    "##### As education increases, poor mental health decreases\n",
    "##### As household income increases, poor mental health decreases\n",
    "##### Controls do not see significant change in mental health"
   ]
  },
  {
   "cell_type": "markdown",
   "metadata": {},
   "source": [
    "## Split the data into training and testing sets"
   ]
  },
  {
   "cell_type": "code",
   "execution_count": 2470,
   "metadata": {},
   "outputs": [],
   "source": [
    "#®X = var_df[[\"Percent Educated\", \"% Female\",\"% Non-Hispanic White\",'% 65 and over', 'Household Income','Percent Educated']]\n",
    "X = var_df[x_vars]\n",
    "y = var_df[\"MHCat\"]"
   ]
  },
  {
   "cell_type": "code",
   "execution_count": 2471,
   "metadata": {},
   "outputs": [],
   "source": [
    "X_train, X_test, y_train, y_test = train_test_split(X, y, test_size = 0.2, random_state = None)"
   ]
  },
  {
   "cell_type": "markdown",
   "metadata": {},
   "source": [
    "### Check to see if split worked"
   ]
  },
  {
   "cell_type": "code",
   "execution_count": 2472,
   "metadata": {},
   "outputs": [],
   "source": [
    "# X_train.info()"
   ]
  },
  {
   "cell_type": "code",
   "execution_count": 2473,
   "metadata": {
    "scrolled": true
   },
   "outputs": [],
   "source": [
    "# X_test.info()"
   ]
  },
  {
   "cell_type": "code",
   "execution_count": 2474,
   "metadata": {},
   "outputs": [],
   "source": [
    "#X_train.head()"
   ]
  },
  {
   "cell_type": "code",
   "execution_count": 2475,
   "metadata": {},
   "outputs": [],
   "source": [
    "#y_train.head()"
   ]
  },
  {
   "cell_type": "code",
   "execution_count": 2476,
   "metadata": {},
   "outputs": [],
   "source": [
    "#X_test.head()"
   ]
  },
  {
   "cell_type": "markdown",
   "metadata": {},
   "source": [
    "### Normalize Data"
   ]
  },
  {
   "cell_type": "code",
   "execution_count": 2477,
   "metadata": {},
   "outputs": [],
   "source": [
    "# sc_X = StandardScaler()\n",
    "# X_train = sc_X.fit_transform(X_train)"
   ]
  },
  {
   "cell_type": "markdown",
   "metadata": {},
   "source": [
    "# Creating Models"
   ]
  },
  {
   "cell_type": "markdown",
   "metadata": {},
   "source": [
    "### Linear Regression"
   ]
  },
  {
   "cell_type": "code",
   "execution_count": 2478,
   "metadata": {},
   "outputs": [
    {
     "data": {
      "text/plain": [
       "53.91"
      ]
     },
     "execution_count": 2478,
     "metadata": {},
     "output_type": "execute_result"
    }
   ],
   "source": [
    "linreg = LinearRegression()\n",
    "linreg.fit(X_train, y_train)\n",
    "# y_pred = linreg.predict(X_test)\n",
    "acc_lin = round(linreg.score(X_test, y_test) * 100, 2)\n",
    "acc_lin"
   ]
  },
  {
   "cell_type": "markdown",
   "metadata": {},
   "source": [
    "### Logistic Regression"
   ]
  },
  {
   "cell_type": "code",
   "execution_count": 2479,
   "metadata": {},
   "outputs": [
    {
     "data": {
      "text/plain": [
       "53.26"
      ]
     },
     "execution_count": 2479,
     "metadata": {},
     "output_type": "execute_result"
    }
   ],
   "source": [
    "logreg = LogisticRegression(solver = 'liblinear')\n",
    "logreg.fit(X_train, y_train)\n",
    "# y_pred = logreg.predict(X_test)\n",
    "acc_log = round(logreg.score(X_test, y_test) * 100, 2)\n",
    "acc_log"
   ]
  },
  {
   "cell_type": "markdown",
   "metadata": {},
   "source": [
    "### Support Vector Machines"
   ]
  },
  {
   "cell_type": "code",
   "execution_count": 2480,
   "metadata": {},
   "outputs": [
    {
     "data": {
      "text/plain": [
       "27.66"
      ]
     },
     "execution_count": 2480,
     "metadata": {},
     "output_type": "execute_result"
    }
   ],
   "source": [
    "svc = SVC()\n",
    "svc.fit(X_train, y_train)\n",
    "# y_pred = svc.predict(X_test)\n",
    "acc_svc = round(svc.score(X_test, y_test) * 100, 2)\n",
    "acc_svc"
   ]
  },
  {
   "cell_type": "markdown",
   "metadata": {},
   "source": [
    "### k-Nearest Neighbors"
   ]
  },
  {
   "cell_type": "code",
   "execution_count": 2481,
   "metadata": {},
   "outputs": [
    {
     "data": {
      "text/plain": [
       "42.45"
      ]
     },
     "execution_count": 2481,
     "metadata": {},
     "output_type": "execute_result"
    }
   ],
   "source": [
    "knn = KNeighborsClassifier(n_neighbors = 3)\n",
    "knn.fit(X_train, y_train)\n",
    "# y_pred = knn.predict(X_test)\n",
    "acc_knn = round(knn.score(X_test, y_test) * 100, 2)\n",
    "acc_knn"
   ]
  },
  {
   "cell_type": "markdown",
   "metadata": {},
   "source": [
    "### Gaussian Naive Bayes"
   ]
  },
  {
   "cell_type": "code",
   "execution_count": 2482,
   "metadata": {},
   "outputs": [
    {
     "data": {
      "text/plain": [
       "50.4"
      ]
     },
     "execution_count": 2482,
     "metadata": {},
     "output_type": "execute_result"
    }
   ],
   "source": [
    "gaussian = GaussianNB()\n",
    "gaussian.fit(X_train, y_train)\n",
    "# y_pred = gaussian.predict(X_test)\n",
    "acc_gaussian = round(gaussian.score(X_test, y_test) * 100, 2)\n",
    "acc_gaussian"
   ]
  },
  {
   "cell_type": "markdown",
   "metadata": {},
   "source": [
    "### Perceptron"
   ]
  },
  {
   "cell_type": "code",
   "execution_count": 2483,
   "metadata": {},
   "outputs": [
    {
     "data": {
      "text/plain": [
       "31.48"
      ]
     },
     "execution_count": 2483,
     "metadata": {},
     "output_type": "execute_result"
    }
   ],
   "source": [
    "perceptron = Perceptron()\n",
    "perceptron.fit(X_train, y_train)\n",
    "# y_pred = perceptron.predict(X_test)\n",
    "acc_perceptron = round(perceptron.score(X_test, y_test) * 100, 2)\n",
    "acc_perceptron"
   ]
  },
  {
   "cell_type": "markdown",
   "metadata": {},
   "source": [
    "### Linear SVC"
   ]
  },
  {
   "cell_type": "code",
   "execution_count": 2484,
   "metadata": {},
   "outputs": [
    {
     "data": {
      "text/plain": [
       "25.76"
      ]
     },
     "execution_count": 2484,
     "metadata": {},
     "output_type": "execute_result"
    }
   ],
   "source": [
    "linear_svc = LinearSVC()\n",
    "linear_svc.fit(X_train, y_train)\n",
    "# y_pred = linear_svc.predict(X_test)\n",
    "acc_linear_svc = round(linear_svc.score(X_test, y_test) * 100, 2)\n",
    "acc_linear_svc"
   ]
  },
  {
   "cell_type": "markdown",
   "metadata": {},
   "source": [
    "### Stochastic Gradient Descent"
   ]
  },
  {
   "cell_type": "code",
   "execution_count": 2485,
   "metadata": {},
   "outputs": [
    {
     "data": {
      "text/plain": [
       "34.98"
      ]
     },
     "execution_count": 2485,
     "metadata": {},
     "output_type": "execute_result"
    }
   ],
   "source": [
    "sgd = SGDClassifier()\n",
    "sgd.fit(X_train, y_train)\n",
    "# y_pred = sgd.predict(X_test)\n",
    "acc_sgd = round(sgd.score(X_test, y_test) * 100, 2)\n",
    "acc_sgd"
   ]
  },
  {
   "cell_type": "markdown",
   "metadata": {},
   "source": [
    "### Decision Tree"
   ]
  },
  {
   "cell_type": "code",
   "execution_count": 2486,
   "metadata": {},
   "outputs": [
    {
     "data": {
      "text/plain": [
       "51.99"
      ]
     },
     "execution_count": 2486,
     "metadata": {},
     "output_type": "execute_result"
    }
   ],
   "source": [
    "decision_tree = DecisionTreeClassifier()\n",
    "decision_tree.fit(X_train, y_train)\n",
    "# y_pred = decision_tree.predict(X_test)\n",
    "acc_decision_tree = round(decision_tree.score(X_test, y_test) * 100, 2)\n",
    "acc_decision_tree"
   ]
  },
  {
   "cell_type": "markdown",
   "metadata": {},
   "source": [
    "### Random Forest"
   ]
  },
  {
   "cell_type": "code",
   "execution_count": 2487,
   "metadata": {},
   "outputs": [
    {
     "data": {
      "text/plain": [
       "58.51"
      ]
     },
     "execution_count": 2487,
     "metadata": {},
     "output_type": "execute_result"
    }
   ],
   "source": [
    "random_forest = RandomForestClassifier(n_estimators=500)\n",
    "random_forest.fit(X_train, y_train)\n",
    "# y_pred = random_forest.predict(X_test)\n",
    "acc_random_forest = round(random_forest.score(X_test, y_test) * 100, 2)\n",
    "acc_random_forest"
   ]
  },
  {
   "cell_type": "markdown",
   "metadata": {},
   "source": [
    "## Model Evaluation"
   ]
  },
  {
   "cell_type": "code",
   "execution_count": 2488,
   "metadata": {},
   "outputs": [
    {
     "data": {
      "text/html": [
       "<div>\n",
       "<style scoped>\n",
       "    .dataframe tbody tr th:only-of-type {\n",
       "        vertical-align: middle;\n",
       "    }\n",
       "\n",
       "    .dataframe tbody tr th {\n",
       "        vertical-align: top;\n",
       "    }\n",
       "\n",
       "    .dataframe thead th {\n",
       "        text-align: right;\n",
       "    }\n",
       "</style>\n",
       "<table border=\"1\" class=\"dataframe\">\n",
       "  <thead>\n",
       "    <tr style=\"text-align: right;\">\n",
       "      <th></th>\n",
       "      <th>Model</th>\n",
       "      <th>Score</th>\n",
       "    </tr>\n",
       "  </thead>\n",
       "  <tbody>\n",
       "    <tr>\n",
       "      <th>3</th>\n",
       "      <td>Random Forest</td>\n",
       "      <td>58.51</td>\n",
       "    </tr>\n",
       "    <tr>\n",
       "      <th>9</th>\n",
       "      <td>Linear Regression</td>\n",
       "      <td>53.91</td>\n",
       "    </tr>\n",
       "    <tr>\n",
       "      <th>2</th>\n",
       "      <td>Logistic Regression</td>\n",
       "      <td>53.26</td>\n",
       "    </tr>\n",
       "    <tr>\n",
       "      <th>8</th>\n",
       "      <td>Decision Tree</td>\n",
       "      <td>51.99</td>\n",
       "    </tr>\n",
       "    <tr>\n",
       "      <th>4</th>\n",
       "      <td>Naive Bayes</td>\n",
       "      <td>50.40</td>\n",
       "    </tr>\n",
       "    <tr>\n",
       "      <th>1</th>\n",
       "      <td>KNN</td>\n",
       "      <td>42.45</td>\n",
       "    </tr>\n",
       "    <tr>\n",
       "      <th>6</th>\n",
       "      <td>Stochastic Gradient Decent</td>\n",
       "      <td>34.98</td>\n",
       "    </tr>\n",
       "    <tr>\n",
       "      <th>5</th>\n",
       "      <td>Perceptron</td>\n",
       "      <td>31.48</td>\n",
       "    </tr>\n",
       "    <tr>\n",
       "      <th>0</th>\n",
       "      <td>Support Vector Machines</td>\n",
       "      <td>27.66</td>\n",
       "    </tr>\n",
       "    <tr>\n",
       "      <th>7</th>\n",
       "      <td>Linear SVC</td>\n",
       "      <td>25.76</td>\n",
       "    </tr>\n",
       "  </tbody>\n",
       "</table>\n",
       "</div>"
      ],
      "text/plain": [
       "                        Model  Score\n",
       "3               Random Forest  58.51\n",
       "9           Linear Regression  53.91\n",
       "2         Logistic Regression  53.26\n",
       "8               Decision Tree  51.99\n",
       "4                 Naive Bayes  50.40\n",
       "1                         KNN  42.45\n",
       "6  Stochastic Gradient Decent  34.98\n",
       "5                  Perceptron  31.48\n",
       "0     Support Vector Machines  27.66\n",
       "7                  Linear SVC  25.76"
      ]
     },
     "execution_count": 2488,
     "metadata": {},
     "output_type": "execute_result"
    }
   ],
   "source": [
    "models = pd.DataFrame({\n",
    "    'Model': ['Support Vector Machines', 'KNN', 'Logistic Regression', \n",
    "              'Random Forest', 'Naive Bayes', 'Perceptron', \n",
    "              'Stochastic Gradient Decent', 'Linear SVC', \n",
    "              'Decision Tree', \"Linear Regression\"],\n",
    "    'Score': [acc_svc, acc_knn, acc_log, \n",
    "              acc_random_forest, acc_gaussian, acc_perceptron, \n",
    "              acc_sgd, acc_linear_svc, acc_decision_tree, acc_lin]})\n",
    "models.sort_values(by='Score', ascending=False)"
   ]
  }
 ],
 "metadata": {
  "kernelspec": {
   "display_name": "Python 3",
   "language": "python",
   "name": "python3"
  },
  "language_info": {
   "codemirror_mode": {
    "name": "ipython",
    "version": 3
   },
   "file_extension": ".py",
   "mimetype": "text/x-python",
   "name": "python",
   "nbconvert_exporter": "python",
   "pygments_lexer": "ipython3",
   "version": "3.7.3"
  }
 },
 "nbformat": 4,
 "nbformat_minor": 2
}
